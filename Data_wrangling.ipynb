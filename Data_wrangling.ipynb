{
 "cells": [
  {
   "cell_type": "markdown",
   "id": "fb9592a4",
   "metadata": {},
   "source": [
    "# Project 2: Real-world Data Wrangling - Analyzing Movie and TV Show Datasets"
   ]
  },
  {
   "cell_type": "markdown",
   "id": "355ae591",
   "metadata": {},
   "source": [
    "In this project. Our main objective is to gain insightful information and understanding from the datasets of movies and TV shows on Netflix and Hulu platform. To achieve this, we will focus on gathering and wrangling the data, ensuring its quality and structure. By effectively cleaning and organizing the data, we can combine and analyze it to extract valuable insights and answer research questions related to the content offerings, trends, and user preferences on Netflix and Hulu."
   ]
  },
  {
   "cell_type": "markdown",
   "id": "f1d35e9f",
   "metadata": {},
   "source": [
    "Table of Contents\n",
    "- Gather\n",
    "- Assess\n",
    "- Clean\n",
    "- Update\n",
    "- Answer the research question"
   ]
  },
  {
   "cell_type": "code",
   "execution_count": 1,
   "id": "eb6300de",
   "metadata": {},
   "outputs": [],
   "source": [
    "import pandas as pd\n",
    "import numpy as np  \n",
    "import requests\n",
    "import os\n",
    "import zipfile\n",
    "import sqlalchemy as sqla\n",
    "import seaborn as sns\n",
    "import matplotlib.pyplot as plt\n",
    "import kaggle"
   ]
  },
  {
   "cell_type": "markdown",
   "id": "12827a57",
   "metadata": {},
   "source": [
    "# 1. Gather data"
   ]
  },
  {
   "cell_type": "markdown",
   "id": "606aad2b",
   "metadata": {},
   "source": [
    "In this section, you will extract data using two different data gathering methods and combine the data. Use at least two different types of data-gathering methods."
   ]
  },
  {
   "cell_type": "markdown",
   "id": "caa94d64",
   "metadata": {},
   "source": [
    "# 1.1. Problem Statement"
   ]
  },
  {
   "cell_type": "markdown",
   "id": "2079d113",
   "metadata": {},
   "source": [
    "This project aims to compare and analyze the movie and TV show of two prominent streaming platforms, Netflix and Hulu to gain a comprehensive understanding of the growth trends in release years and the distribution of ratings between these platforms. By addressing these questions, the project aims to identify notable differences and patterns in content availability and user preferences, providing valuable insights for viewers, content creators. The analysis of these factors will contribute to a deeper understanding of the dynamics and strategies employed by Netflix and Hulu, facilitating informed decision-making and enhancing the overall viewing experience for users.\n",
    "\n",
    "\n",
    "\n",
    "Research Questions:\n",
    "\n",
    "1-How can the growth trends of Netflix's and Hulu's release year distributions be compared?\n",
    "\n",
    "2-Are there any notable differences in the distribution of movie and tv show ratings between Netflix and Hulu?\n"
   ]
  },
  {
   "cell_type": "code",
   "execution_count": 2,
   "id": "841cb0ae",
   "metadata": {},
   "outputs": [],
   "source": [
    "# Define the folder name\n",
    "folder_name = \"Datasets\"\n",
    "\n",
    "# Check if the directory already exists\n",
    "if not os.path.exists(folder_name):\n",
    "    # Create the directory\n",
    "    os.makedirs(folder_name)\n",
    "\n",
    "# Get the current working directory\n",
    "current_directory = os.getcwd()\n",
    "\n",
    "# Build the file path by joining the current directory and the folder name\n",
    "file_path = os.path.join(current_directory, folder_name)"
   ]
  },
  {
   "cell_type": "markdown",
   "id": "3af5117a",
   "metadata": {},
   "source": [
    "# **Dataset 1**\n",
    "\n",
    "Type:CSV File.\n",
    "\n",
    "Method:The data was gathered using the \"Downloading files manually\" method from Kaggle\n",
    "\n",
    "\n",
    "Dataset variables:\n",
    "\n",
    "*   show_id:ID for every Movie/TV Show\n",
    "*   type :  A Movie or TV Show\n",
    "*   title: : Title of the Movie or TV Show\n",
    "*   director : Director name\n",
    "*   cast : cast name\n",
    "*   country: Country of Production\n",
    "*   date_added: Date added of the Movie /TV Show\n",
    "*   release_year: Release year of the Movie / TV Show\n",
    "*   rating: Motion Picture Association film rating system\n",
    "*   duration: Duration of the Movie/TV show\n",
    "*   listed_in:Genres\n",
    "*   description: description of the Movie /TV show\n",
    "\n",
    "URL: https://www.kaggle.com/datasets/shivamb/netflix-shows/data"
   ]
  },
  {
   "cell_type": "code",
   "execution_count": 3,
   "id": "216381e8",
   "metadata": {},
   "outputs": [
    {
     "name": "stdout",
     "output_type": "stream",
     "text": [
      "Dataset saved successfully.\n"
     ]
    }
   ],
   "source": [
    "df = pd.read_csv('.//netflix_titles.csv')\n",
    "# Define the file path and name to save the dataset\n",
    "file_path = \"Datasets/netflix_titles.csv\"\n",
    "\n",
    "# Save the DataFrame as a CSV file\n",
    "df.to_csv(file_path, index=False)\n",
    "\n",
    "print(\"Dataset saved successfully.\")"
   ]
  },
  {
   "cell_type": "code",
   "execution_count": 4,
   "id": "a7bfc4e2",
   "metadata": {},
   "outputs": [],
   "source": [
    "df_netflix_raw = pd.read_csv(\"Datasets/netflix_titles.csv\") # Read in the file"
   ]
  },
  {
   "cell_type": "markdown",
   "id": "ac590ba1",
   "metadata": {},
   "source": [
    "This method suitable when the data is available for direct download from a website or source. "
   ]
  },
  {
   "cell_type": "markdown",
   "id": "fd6c1641",
   "metadata": {},
   "source": [
    "# **Dataset 2**\n",
    "\n",
    "Type: zip File.\n",
    "\n",
    "Method:The data was gathered programiticlly method from Kaggle\n",
    "\n",
    "Dataset variables:\n",
    "\n",
    "*   show_id:ID for every Movie/TV Show\n",
    "*   type :  A Movie or TV Show\n",
    "*   title: : Title of the Movie or TV Show\n",
    "*   director : Director name\n",
    "*   cast : cast name\n",
    "*   country: Country of Production\n",
    "*   date_added: Date added of the Movie /TV Show\n",
    "*   release_year: Release year of the Movie / TV Show\n",
    "*   rating: Motion Picture Association film rating system\n",
    "*   duration: Duration of the Movie/TV show\n",
    "*   listed_in:Genres\n",
    "*   description: description of the Movie /TV show\n",
    "\n",
    "URL:https://www.kaggle.com/datasets/shivamb/hulu-movies-and-tv-shows"
   ]
  },
  {
   "cell_type": "code",
   "execution_count": 7,
   "id": "646d3e8b",
   "metadata": {},
   "outputs": [],
   "source": [
    "# Unzip dataset\n",
    "\n",
    "file_path =  r\"C:\\Users\\hp\\Downloads\\Hulu.zip\"  # Path to the zip file\n",
    "\n",
    "with zipfile.ZipFile(file_path, \"r\") as zip_ref:\n",
    "    zip_ref.extractall(\"Datasets\")"
   ]
  },
  {
   "cell_type": "code",
   "execution_count": 8,
   "id": "5e43da88",
   "metadata": {},
   "outputs": [],
   "source": [
    "df_hulu_raw = pd.read_csv(\"Datasets/hulu_titles.csv\") # Read in the file"
   ]
  },
  {
   "cell_type": "markdown",
   "id": "b2c8e053",
   "metadata": {},
   "source": [
    "This method is preferred when there is a need to automate the process of downloading files."
   ]
  },
  {
   "cell_type": "markdown",
   "id": "9460b16b",
   "metadata": {},
   "source": [
    "# 2. Assess data"
   ]
  },
  {
   "cell_type": "markdown",
   "id": "fcfab751",
   "metadata": {},
   "source": [
    "Assess the data according to data quality and tidiness metrics using the report below.\n",
    "\n",
    "List two data quality issues and two tidiness issues. Assess each data issue visually and programmatically, then briefly describe the issue you find. Make sure you include justifications for the methods you use for the assessment."
   ]
  },
  {
   "cell_type": "markdown",
   "id": "7785a48a",
   "metadata": {},
   "source": [
    "# Visual Assessment\n",
    "\n",
    "Each piece of gathered data is displayed in the Jupyter Notebook for visual assessment purposes"
   ]
  },
  {
   "cell_type": "code",
   "execution_count": 9,
   "id": "69ff4a0e",
   "metadata": {
    "scrolled": true
   },
   "outputs": [
    {
     "data": {
      "text/html": [
       "<div>\n",
       "<style scoped>\n",
       "    .dataframe tbody tr th:only-of-type {\n",
       "        vertical-align: middle;\n",
       "    }\n",
       "\n",
       "    .dataframe tbody tr th {\n",
       "        vertical-align: top;\n",
       "    }\n",
       "\n",
       "    .dataframe thead th {\n",
       "        text-align: right;\n",
       "    }\n",
       "</style>\n",
       "<table border=\"1\" class=\"dataframe\">\n",
       "  <thead>\n",
       "    <tr style=\"text-align: right;\">\n",
       "      <th></th>\n",
       "      <th>show_id</th>\n",
       "      <th>type</th>\n",
       "      <th>title</th>\n",
       "      <th>director</th>\n",
       "      <th>cast</th>\n",
       "      <th>country</th>\n",
       "      <th>date_added</th>\n",
       "      <th>release_year</th>\n",
       "      <th>rating</th>\n",
       "      <th>duration</th>\n",
       "      <th>listed_in</th>\n",
       "      <th>description</th>\n",
       "    </tr>\n",
       "  </thead>\n",
       "  <tbody>\n",
       "    <tr>\n",
       "      <th>0</th>\n",
       "      <td>s1</td>\n",
       "      <td>Movie</td>\n",
       "      <td>Dick Johnson Is Dead</td>\n",
       "      <td>Kirsten Johnson</td>\n",
       "      <td>NaN</td>\n",
       "      <td>United States</td>\n",
       "      <td>September 25, 2021</td>\n",
       "      <td>2020</td>\n",
       "      <td>PG-13</td>\n",
       "      <td>90 min</td>\n",
       "      <td>Documentaries</td>\n",
       "      <td>As her father nears the end of his life, filmm...</td>\n",
       "    </tr>\n",
       "    <tr>\n",
       "      <th>1</th>\n",
       "      <td>s2</td>\n",
       "      <td>TV Show</td>\n",
       "      <td>Blood &amp; Water</td>\n",
       "      <td>NaN</td>\n",
       "      <td>Ama Qamata, Khosi Ngema, Gail Mabalane, Thaban...</td>\n",
       "      <td>South Africa</td>\n",
       "      <td>September 24, 2021</td>\n",
       "      <td>2021</td>\n",
       "      <td>TV-MA</td>\n",
       "      <td>2 Seasons</td>\n",
       "      <td>International TV Shows, TV Dramas, TV Mysteries</td>\n",
       "      <td>After crossing paths at a party, a Cape Town t...</td>\n",
       "    </tr>\n",
       "    <tr>\n",
       "      <th>2</th>\n",
       "      <td>s3</td>\n",
       "      <td>TV Show</td>\n",
       "      <td>Ganglands</td>\n",
       "      <td>Julien Leclercq</td>\n",
       "      <td>Sami Bouajila, Tracy Gotoas, Samuel Jouy, Nabi...</td>\n",
       "      <td>NaN</td>\n",
       "      <td>September 24, 2021</td>\n",
       "      <td>2021</td>\n",
       "      <td>TV-MA</td>\n",
       "      <td>1 Season</td>\n",
       "      <td>Crime TV Shows, International TV Shows, TV Act...</td>\n",
       "      <td>To protect his family from a powerful drug lor...</td>\n",
       "    </tr>\n",
       "    <tr>\n",
       "      <th>3</th>\n",
       "      <td>s4</td>\n",
       "      <td>TV Show</td>\n",
       "      <td>Jailbirds New Orleans</td>\n",
       "      <td>NaN</td>\n",
       "      <td>NaN</td>\n",
       "      <td>NaN</td>\n",
       "      <td>September 24, 2021</td>\n",
       "      <td>2021</td>\n",
       "      <td>TV-MA</td>\n",
       "      <td>1 Season</td>\n",
       "      <td>Docuseries, Reality TV</td>\n",
       "      <td>Feuds, flirtations and toilet talk go down amo...</td>\n",
       "    </tr>\n",
       "    <tr>\n",
       "      <th>4</th>\n",
       "      <td>s5</td>\n",
       "      <td>TV Show</td>\n",
       "      <td>Kota Factory</td>\n",
       "      <td>NaN</td>\n",
       "      <td>Mayur More, Jitendra Kumar, Ranjan Raj, Alam K...</td>\n",
       "      <td>India</td>\n",
       "      <td>September 24, 2021</td>\n",
       "      <td>2021</td>\n",
       "      <td>TV-MA</td>\n",
       "      <td>2 Seasons</td>\n",
       "      <td>International TV Shows, Romantic TV Shows, TV ...</td>\n",
       "      <td>In a city of coaching centers known to train I...</td>\n",
       "    </tr>\n",
       "  </tbody>\n",
       "</table>\n",
       "</div>"
      ],
      "text/plain": [
       "  show_id     type                  title         director  \\\n",
       "0      s1    Movie   Dick Johnson Is Dead  Kirsten Johnson   \n",
       "1      s2  TV Show          Blood & Water              NaN   \n",
       "2      s3  TV Show              Ganglands  Julien Leclercq   \n",
       "3      s4  TV Show  Jailbirds New Orleans              NaN   \n",
       "4      s5  TV Show           Kota Factory              NaN   \n",
       "\n",
       "                                                cast        country  \\\n",
       "0                                                NaN  United States   \n",
       "1  Ama Qamata, Khosi Ngema, Gail Mabalane, Thaban...   South Africa   \n",
       "2  Sami Bouajila, Tracy Gotoas, Samuel Jouy, Nabi...            NaN   \n",
       "3                                                NaN            NaN   \n",
       "4  Mayur More, Jitendra Kumar, Ranjan Raj, Alam K...          India   \n",
       "\n",
       "           date_added  release_year rating   duration  \\\n",
       "0  September 25, 2021          2020  PG-13     90 min   \n",
       "1  September 24, 2021          2021  TV-MA  2 Seasons   \n",
       "2  September 24, 2021          2021  TV-MA   1 Season   \n",
       "3  September 24, 2021          2021  TV-MA   1 Season   \n",
       "4  September 24, 2021          2021  TV-MA  2 Seasons   \n",
       "\n",
       "                                           listed_in  \\\n",
       "0                                      Documentaries   \n",
       "1    International TV Shows, TV Dramas, TV Mysteries   \n",
       "2  Crime TV Shows, International TV Shows, TV Act...   \n",
       "3                             Docuseries, Reality TV   \n",
       "4  International TV Shows, Romantic TV Shows, TV ...   \n",
       "\n",
       "                                         description  \n",
       "0  As her father nears the end of his life, filmm...  \n",
       "1  After crossing paths at a party, a Cape Town t...  \n",
       "2  To protect his family from a powerful drug lor...  \n",
       "3  Feuds, flirtations and toilet talk go down amo...  \n",
       "4  In a city of coaching centers known to train I...  "
      ]
     },
     "execution_count": 9,
     "metadata": {},
     "output_type": "execute_result"
    }
   ],
   "source": [
    "df_netflix_raw.head()"
   ]
  },
  {
   "cell_type": "code",
   "execution_count": 10,
   "id": "b1ff34c8",
   "metadata": {},
   "outputs": [
    {
     "data": {
      "text/html": [
       "<div>\n",
       "<style scoped>\n",
       "    .dataframe tbody tr th:only-of-type {\n",
       "        vertical-align: middle;\n",
       "    }\n",
       "\n",
       "    .dataframe tbody tr th {\n",
       "        vertical-align: top;\n",
       "    }\n",
       "\n",
       "    .dataframe thead th {\n",
       "        text-align: right;\n",
       "    }\n",
       "</style>\n",
       "<table border=\"1\" class=\"dataframe\">\n",
       "  <thead>\n",
       "    <tr style=\"text-align: right;\">\n",
       "      <th></th>\n",
       "      <th>show_id</th>\n",
       "      <th>type</th>\n",
       "      <th>title</th>\n",
       "      <th>director</th>\n",
       "      <th>cast</th>\n",
       "      <th>country</th>\n",
       "      <th>date_added</th>\n",
       "      <th>release_year</th>\n",
       "      <th>rating</th>\n",
       "      <th>duration</th>\n",
       "      <th>listed_in</th>\n",
       "      <th>description</th>\n",
       "    </tr>\n",
       "  </thead>\n",
       "  <tbody>\n",
       "    <tr>\n",
       "      <th>0</th>\n",
       "      <td>s1</td>\n",
       "      <td>Movie</td>\n",
       "      <td>Ricky Velez: Here's Everything</td>\n",
       "      <td>NaN</td>\n",
       "      <td>NaN</td>\n",
       "      <td>NaN</td>\n",
       "      <td>October 24, 2021</td>\n",
       "      <td>2021</td>\n",
       "      <td>TV-MA</td>\n",
       "      <td>NaN</td>\n",
       "      <td>Comedy, Stand Up</td>\n",
       "      <td>​Comedian Ricky Velez bares it all with his ho...</td>\n",
       "    </tr>\n",
       "    <tr>\n",
       "      <th>1</th>\n",
       "      <td>s2</td>\n",
       "      <td>Movie</td>\n",
       "      <td>Silent Night</td>\n",
       "      <td>NaN</td>\n",
       "      <td>NaN</td>\n",
       "      <td>NaN</td>\n",
       "      <td>October 23, 2021</td>\n",
       "      <td>2020</td>\n",
       "      <td>NaN</td>\n",
       "      <td>94 min</td>\n",
       "      <td>Crime, Drama, Thriller</td>\n",
       "      <td>Mark, a low end South London hitman recently r...</td>\n",
       "    </tr>\n",
       "    <tr>\n",
       "      <th>2</th>\n",
       "      <td>s3</td>\n",
       "      <td>Movie</td>\n",
       "      <td>The Marksman</td>\n",
       "      <td>NaN</td>\n",
       "      <td>NaN</td>\n",
       "      <td>NaN</td>\n",
       "      <td>October 23, 2021</td>\n",
       "      <td>2021</td>\n",
       "      <td>PG-13</td>\n",
       "      <td>108 min</td>\n",
       "      <td>Action, Thriller</td>\n",
       "      <td>A hardened Arizona rancher tries to protect an...</td>\n",
       "    </tr>\n",
       "    <tr>\n",
       "      <th>3</th>\n",
       "      <td>s4</td>\n",
       "      <td>Movie</td>\n",
       "      <td>Gaia</td>\n",
       "      <td>NaN</td>\n",
       "      <td>NaN</td>\n",
       "      <td>NaN</td>\n",
       "      <td>October 22, 2021</td>\n",
       "      <td>2021</td>\n",
       "      <td>R</td>\n",
       "      <td>97 min</td>\n",
       "      <td>Horror</td>\n",
       "      <td>A forest ranger and two survivalists with a cu...</td>\n",
       "    </tr>\n",
       "    <tr>\n",
       "      <th>4</th>\n",
       "      <td>s5</td>\n",
       "      <td>Movie</td>\n",
       "      <td>Settlers</td>\n",
       "      <td>NaN</td>\n",
       "      <td>NaN</td>\n",
       "      <td>NaN</td>\n",
       "      <td>October 22, 2021</td>\n",
       "      <td>2021</td>\n",
       "      <td>NaN</td>\n",
       "      <td>104 min</td>\n",
       "      <td>Science Fiction, Thriller</td>\n",
       "      <td>Mankind's earliest settlers on the Martian fro...</td>\n",
       "    </tr>\n",
       "  </tbody>\n",
       "</table>\n",
       "</div>"
      ],
      "text/plain": [
       "  show_id   type                           title director  cast country  \\\n",
       "0      s1  Movie  Ricky Velez: Here's Everything      NaN   NaN     NaN   \n",
       "1      s2  Movie                    Silent Night      NaN   NaN     NaN   \n",
       "2      s3  Movie                    The Marksman      NaN   NaN     NaN   \n",
       "3      s4  Movie                            Gaia      NaN   NaN     NaN   \n",
       "4      s5  Movie                        Settlers      NaN   NaN     NaN   \n",
       "\n",
       "         date_added  release_year rating duration                  listed_in  \\\n",
       "0  October 24, 2021          2021  TV-MA      NaN           Comedy, Stand Up   \n",
       "1  October 23, 2021          2020    NaN   94 min     Crime, Drama, Thriller   \n",
       "2  October 23, 2021          2021  PG-13  108 min           Action, Thriller   \n",
       "3  October 22, 2021          2021      R   97 min                     Horror   \n",
       "4  October 22, 2021          2021    NaN  104 min  Science Fiction, Thriller   \n",
       "\n",
       "                                         description  \n",
       "0  ​Comedian Ricky Velez bares it all with his ho...  \n",
       "1  Mark, a low end South London hitman recently r...  \n",
       "2  A hardened Arizona rancher tries to protect an...  \n",
       "3  A forest ranger and two survivalists with a cu...  \n",
       "4  Mankind's earliest settlers on the Martian fro...  "
      ]
     },
     "execution_count": 10,
     "metadata": {},
     "output_type": "execute_result"
    }
   ],
   "source": [
    "df_hulu_raw.head()"
   ]
  },
  {
   "cell_type": "markdown",
   "id": "e3d5d3f4",
   "metadata": {},
   "source": [
    "The Show_id element doesn't show the ID, and it's not suitable for matching columns representing different movies/TV shows."
   ]
  },
  {
   "cell_type": "markdown",
   "id": "4919a182",
   "metadata": {},
   "source": [
    "# Programmatic Assessment\n"
   ]
  },
  {
   "cell_type": "code",
   "execution_count": 11,
   "id": "1f9f5b0a",
   "metadata": {},
   "outputs": [
    {
     "name": "stdout",
     "output_type": "stream",
     "text": [
      "<class 'pandas.core.frame.DataFrame'>\n",
      "RangeIndex: 8807 entries, 0 to 8806\n",
      "Data columns (total 12 columns):\n",
      " #   Column        Non-Null Count  Dtype \n",
      "---  ------        --------------  ----- \n",
      " 0   show_id       8807 non-null   object\n",
      " 1   type          8807 non-null   object\n",
      " 2   title         8807 non-null   object\n",
      " 3   director      6173 non-null   object\n",
      " 4   cast          7982 non-null   object\n",
      " 5   country       7976 non-null   object\n",
      " 6   date_added    8797 non-null   object\n",
      " 7   release_year  8807 non-null   int64 \n",
      " 8   rating        8803 non-null   object\n",
      " 9   duration      8804 non-null   object\n",
      " 10  listed_in     8807 non-null   object\n",
      " 11  description   8807 non-null   object\n",
      "dtypes: int64(1), object(11)\n",
      "memory usage: 825.8+ KB\n"
     ]
    }
   ],
   "source": [
    "df_netflix_raw.info()"
   ]
  },
  {
   "cell_type": "code",
   "execution_count": 12,
   "id": "746b45b2",
   "metadata": {},
   "outputs": [
    {
     "name": "stdout",
     "output_type": "stream",
     "text": [
      "<class 'pandas.core.frame.DataFrame'>\n",
      "RangeIndex: 3073 entries, 0 to 3072\n",
      "Data columns (total 12 columns):\n",
      " #   Column        Non-Null Count  Dtype  \n",
      "---  ------        --------------  -----  \n",
      " 0   show_id       3073 non-null   object \n",
      " 1   type          3073 non-null   object \n",
      " 2   title         3073 non-null   object \n",
      " 3   director      3 non-null      object \n",
      " 4   cast          0 non-null      float64\n",
      " 5   country       1620 non-null   object \n",
      " 6   date_added    3045 non-null   object \n",
      " 7   release_year  3073 non-null   int64  \n",
      " 8   rating        2553 non-null   object \n",
      " 9   duration      2594 non-null   object \n",
      " 10  listed_in     3073 non-null   object \n",
      " 11  description   3069 non-null   object \n",
      "dtypes: float64(1), int64(1), object(10)\n",
      "memory usage: 288.2+ KB\n"
     ]
    }
   ],
   "source": [
    "df_hulu_raw.info()"
   ]
  },
  {
   "cell_type": "code",
   "execution_count": 13,
   "id": "1eef6713",
   "metadata": {},
   "outputs": [
    {
     "data": {
      "text/plain": [
       "(8807, 12)"
      ]
     },
     "execution_count": 13,
     "metadata": {},
     "output_type": "execute_result"
    }
   ],
   "source": [
    "df_netflix_raw.shape"
   ]
  },
  {
   "cell_type": "code",
   "execution_count": 14,
   "id": "1e6f61ff",
   "metadata": {},
   "outputs": [
    {
     "data": {
      "text/plain": [
       "(3073, 12)"
      ]
     },
     "execution_count": 14,
     "metadata": {},
     "output_type": "execute_result"
    }
   ],
   "source": [
    "df_hulu_raw.shape"
   ]
  },
  {
   "cell_type": "code",
   "execution_count": 15,
   "id": "9e979314",
   "metadata": {},
   "outputs": [
    {
     "data": {
      "text/plain": [
       "show_id            0\n",
       "type               0\n",
       "title              0\n",
       "director        2634\n",
       "cast             825\n",
       "country          831\n",
       "date_added        10\n",
       "release_year       0\n",
       "rating             4\n",
       "duration           3\n",
       "listed_in          0\n",
       "description        0\n",
       "dtype: int64"
      ]
     },
     "execution_count": 15,
     "metadata": {},
     "output_type": "execute_result"
    }
   ],
   "source": [
    "df_netflix_raw.isnull().sum()"
   ]
  },
  {
   "cell_type": "code",
   "execution_count": 16,
   "id": "0ab46a24",
   "metadata": {},
   "outputs": [
    {
     "data": {
      "text/plain": [
       "show_id            0\n",
       "type               0\n",
       "title              0\n",
       "director        3070\n",
       "cast            3073\n",
       "country         1453\n",
       "date_added        28\n",
       "release_year       0\n",
       "rating           520\n",
       "duration         479\n",
       "listed_in          0\n",
       "description        4\n",
       "dtype: int64"
      ]
     },
     "execution_count": 16,
     "metadata": {},
     "output_type": "execute_result"
    }
   ],
   "source": [
    "df_hulu_raw.isnull().sum()"
   ]
  },
  {
   "cell_type": "code",
   "execution_count": 17,
   "id": "8cf88a31",
   "metadata": {},
   "outputs": [
    {
     "data": {
      "text/plain": [
       "0"
      ]
     },
     "execution_count": 17,
     "metadata": {},
     "output_type": "execute_result"
    }
   ],
   "source": [
    "df_netflix_raw.duplicated().sum()"
   ]
  },
  {
   "cell_type": "code",
   "execution_count": 18,
   "id": "b2fdcafd",
   "metadata": {},
   "outputs": [
    {
     "data": {
      "text/plain": [
       "0"
      ]
     },
     "execution_count": 18,
     "metadata": {},
     "output_type": "execute_result"
    }
   ],
   "source": [
    "df_hulu_raw.duplicated().sum()"
   ]
  },
  {
   "cell_type": "markdown",
   "id": "286fde3c",
   "metadata": {},
   "source": [
    "The datasets contain missing values, but they can be addressed without impacting the analysis. The Pandas library provides useful functions and methods to handle these null values and preprocess the dataset for further analysis."
   ]
  },
  {
   "cell_type": "markdown",
   "id": "a5a605c9",
   "metadata": {},
   "source": [
    "# Quality\n",
    "\n",
    "Data quality is crucial for ensuring the reliability and usability of a dataset. It encompasses several aspects, including completeness, validity, accuracy, consistency, and uniqueness. Completeness refers to the presence of all required data elements, while validity ensures that the data conforms to predefined rules and constraints. Accuracy pertains to the correctness and precision of the data, and consistency focuses on the coherence and conformity of data across different sources or within the same dataset. Uniqueness ensures that each data element is unique and free from duplicates. Evaluating and addressing these quality issues is essential for accurate analysis and informed decision-making processes."
   ]
  },
  {
   "cell_type": "markdown",
   "id": "534be476",
   "metadata": {},
   "source": [
    "# Quality Issue 1: Inconsistent Data Format"
   ]
  },
  {
   "cell_type": "code",
   "execution_count": 19,
   "id": "ecddb3e9",
   "metadata": {},
   "outputs": [
    {
     "data": {
      "text/html": [
       "<div>\n",
       "<style scoped>\n",
       "    .dataframe tbody tr th:only-of-type {\n",
       "        vertical-align: middle;\n",
       "    }\n",
       "\n",
       "    .dataframe tbody tr th {\n",
       "        vertical-align: top;\n",
       "    }\n",
       "\n",
       "    .dataframe thead th {\n",
       "        text-align: right;\n",
       "    }\n",
       "</style>\n",
       "<table border=\"1\" class=\"dataframe\">\n",
       "  <thead>\n",
       "    <tr style=\"text-align: right;\">\n",
       "      <th></th>\n",
       "      <th>date_added</th>\n",
       "      <th>type</th>\n",
       "    </tr>\n",
       "  </thead>\n",
       "  <tbody>\n",
       "    <tr>\n",
       "      <th>0</th>\n",
       "      <td>September 25, 2021</td>\n",
       "      <td>Movie</td>\n",
       "    </tr>\n",
       "    <tr>\n",
       "      <th>1</th>\n",
       "      <td>September 24, 2021</td>\n",
       "      <td>TV Show</td>\n",
       "    </tr>\n",
       "    <tr>\n",
       "      <th>2</th>\n",
       "      <td>September 24, 2021</td>\n",
       "      <td>TV Show</td>\n",
       "    </tr>\n",
       "    <tr>\n",
       "      <th>3</th>\n",
       "      <td>September 24, 2021</td>\n",
       "      <td>TV Show</td>\n",
       "    </tr>\n",
       "    <tr>\n",
       "      <th>4</th>\n",
       "      <td>September 24, 2021</td>\n",
       "      <td>TV Show</td>\n",
       "    </tr>\n",
       "  </tbody>\n",
       "</table>\n",
       "</div>"
      ],
      "text/plain": [
       "           date_added     type\n",
       "0  September 25, 2021    Movie\n",
       "1  September 24, 2021  TV Show\n",
       "2  September 24, 2021  TV Show\n",
       "3  September 24, 2021  TV Show\n",
       "4  September 24, 2021  TV Show"
      ]
     },
     "execution_count": 19,
     "metadata": {},
     "output_type": "execute_result"
    }
   ],
   "source": [
    "# Inspecting the dataframe visually\n",
    "df_netflix_raw[['date_added', 'type']].head(5)"
   ]
  },
  {
   "cell_type": "code",
   "execution_count": 20,
   "id": "1e6dec98",
   "metadata": {},
   "outputs": [
    {
     "data": {
      "text/html": [
       "<div>\n",
       "<style scoped>\n",
       "    .dataframe tbody tr th:only-of-type {\n",
       "        vertical-align: middle;\n",
       "    }\n",
       "\n",
       "    .dataframe tbody tr th {\n",
       "        vertical-align: top;\n",
       "    }\n",
       "\n",
       "    .dataframe thead th {\n",
       "        text-align: right;\n",
       "    }\n",
       "</style>\n",
       "<table border=\"1\" class=\"dataframe\">\n",
       "  <thead>\n",
       "    <tr style=\"text-align: right;\">\n",
       "      <th></th>\n",
       "      <th>date_added</th>\n",
       "      <th>type</th>\n",
       "    </tr>\n",
       "  </thead>\n",
       "  <tbody>\n",
       "    <tr>\n",
       "      <th>0</th>\n",
       "      <td>October 24, 2021</td>\n",
       "      <td>Movie</td>\n",
       "    </tr>\n",
       "    <tr>\n",
       "      <th>1</th>\n",
       "      <td>October 23, 2021</td>\n",
       "      <td>Movie</td>\n",
       "    </tr>\n",
       "    <tr>\n",
       "      <th>2</th>\n",
       "      <td>October 23, 2021</td>\n",
       "      <td>Movie</td>\n",
       "    </tr>\n",
       "    <tr>\n",
       "      <th>3</th>\n",
       "      <td>October 22, 2021</td>\n",
       "      <td>Movie</td>\n",
       "    </tr>\n",
       "    <tr>\n",
       "      <th>4</th>\n",
       "      <td>October 22, 2021</td>\n",
       "      <td>Movie</td>\n",
       "    </tr>\n",
       "  </tbody>\n",
       "</table>\n",
       "</div>"
      ],
      "text/plain": [
       "         date_added   type\n",
       "0  October 24, 2021  Movie\n",
       "1  October 23, 2021  Movie\n",
       "2  October 23, 2021  Movie\n",
       "3  October 22, 2021  Movie\n",
       "4  October 22, 2021  Movie"
      ]
     },
     "execution_count": 20,
     "metadata": {},
     "output_type": "execute_result"
    }
   ],
   "source": [
    "df_hulu_raw[['date_added', 'type']].head(5)"
   ]
  },
  {
   "cell_type": "code",
   "execution_count": 21,
   "id": "3836ef95",
   "metadata": {},
   "outputs": [
    {
     "data": {
      "text/plain": [
       "show_id         object\n",
       "type            object\n",
       "title           object\n",
       "director        object\n",
       "cast            object\n",
       "country         object\n",
       "date_added      object\n",
       "release_year     int64\n",
       "rating          object\n",
       "duration        object\n",
       "listed_in       object\n",
       "description     object\n",
       "dtype: object"
      ]
     },
     "execution_count": 21,
     "metadata": {},
     "output_type": "execute_result"
    }
   ],
   "source": [
    "#Inspecting the dataframe programmatically\n",
    "df_netflix_raw.dtypes "
   ]
  },
  {
   "cell_type": "code",
   "execution_count": 22,
   "id": "7681258d",
   "metadata": {},
   "outputs": [
    {
     "data": {
      "text/plain": [
       "show_id          object\n",
       "type             object\n",
       "title            object\n",
       "director         object\n",
       "cast            float64\n",
       "country          object\n",
       "date_added       object\n",
       "release_year      int64\n",
       "rating           object\n",
       "duration         object\n",
       "listed_in        object\n",
       "description      object\n",
       "dtype: object"
      ]
     },
     "execution_count": 22,
     "metadata": {},
     "output_type": "execute_result"
    }
   ],
   "source": [
    "df_hulu_raw.dtypes "
   ]
  },
  {
   "cell_type": "code",
   "execution_count": 23,
   "id": "ca90ac8c",
   "metadata": {},
   "outputs": [
    {
     "data": {
      "text/html": [
       "<div>\n",
       "<style scoped>\n",
       "    .dataframe tbody tr th:only-of-type {\n",
       "        vertical-align: middle;\n",
       "    }\n",
       "\n",
       "    .dataframe tbody tr th {\n",
       "        vertical-align: top;\n",
       "    }\n",
       "\n",
       "    .dataframe thead th {\n",
       "        text-align: right;\n",
       "    }\n",
       "</style>\n",
       "<table border=\"1\" class=\"dataframe\">\n",
       "  <thead>\n",
       "    <tr style=\"text-align: right;\">\n",
       "      <th></th>\n",
       "      <th>date_added</th>\n",
       "      <th>type</th>\n",
       "    </tr>\n",
       "  </thead>\n",
       "  <tbody>\n",
       "    <tr>\n",
       "      <th>count</th>\n",
       "      <td>8797</td>\n",
       "      <td>8807</td>\n",
       "    </tr>\n",
       "    <tr>\n",
       "      <th>unique</th>\n",
       "      <td>1767</td>\n",
       "      <td>2</td>\n",
       "    </tr>\n",
       "    <tr>\n",
       "      <th>top</th>\n",
       "      <td>January 1, 2020</td>\n",
       "      <td>Movie</td>\n",
       "    </tr>\n",
       "    <tr>\n",
       "      <th>freq</th>\n",
       "      <td>109</td>\n",
       "      <td>6131</td>\n",
       "    </tr>\n",
       "  </tbody>\n",
       "</table>\n",
       "</div>"
      ],
      "text/plain": [
       "             date_added   type\n",
       "count              8797   8807\n",
       "unique             1767      2\n",
       "top     January 1, 2020  Movie\n",
       "freq                109   6131"
      ]
     },
     "execution_count": 23,
     "metadata": {},
     "output_type": "execute_result"
    }
   ],
   "source": [
    "df_netflix_raw[['date_added', 'type']].describe()"
   ]
  },
  {
   "cell_type": "code",
   "execution_count": 24,
   "id": "fdd4d49a",
   "metadata": {},
   "outputs": [
    {
     "data": {
      "text/html": [
       "<div>\n",
       "<style scoped>\n",
       "    .dataframe tbody tr th:only-of-type {\n",
       "        vertical-align: middle;\n",
       "    }\n",
       "\n",
       "    .dataframe tbody tr th {\n",
       "        vertical-align: top;\n",
       "    }\n",
       "\n",
       "    .dataframe thead th {\n",
       "        text-align: right;\n",
       "    }\n",
       "</style>\n",
       "<table border=\"1\" class=\"dataframe\">\n",
       "  <thead>\n",
       "    <tr style=\"text-align: right;\">\n",
       "      <th></th>\n",
       "      <th>date_added</th>\n",
       "      <th>type</th>\n",
       "    </tr>\n",
       "  </thead>\n",
       "  <tbody>\n",
       "    <tr>\n",
       "      <th>count</th>\n",
       "      <td>3045</td>\n",
       "      <td>3073</td>\n",
       "    </tr>\n",
       "    <tr>\n",
       "      <th>unique</th>\n",
       "      <td>1115</td>\n",
       "      <td>2</td>\n",
       "    </tr>\n",
       "    <tr>\n",
       "      <th>top</th>\n",
       "      <td>October 1, 2021</td>\n",
       "      <td>TV Show</td>\n",
       "    </tr>\n",
       "    <tr>\n",
       "      <th>freq</th>\n",
       "      <td>92</td>\n",
       "      <td>1589</td>\n",
       "    </tr>\n",
       "  </tbody>\n",
       "</table>\n",
       "</div>"
      ],
      "text/plain": [
       "             date_added     type\n",
       "count              3045     3073\n",
       "unique             1115        2\n",
       "top     October 1, 2021  TV Show\n",
       "freq                 92     1589"
      ]
     },
     "execution_count": 24,
     "metadata": {},
     "output_type": "execute_result"
    }
   ],
   "source": [
    "df_hulu_raw[['date_added', 'type']].describe()"
   ]
  },
  {
   "cell_type": "markdown",
   "id": "8fff5bb9",
   "metadata": {},
   "source": [
    "Issue and justification: Both datasets have the \"date_added\" and \"type\" columns in an incorrect format. It is crucial to ensure that these columns have the correct format to maintain data integrity and facilitate proper analysis. "
   ]
  },
  {
   "cell_type": "markdown",
   "id": "7ab711ea",
   "metadata": {},
   "source": [
    "# Quality Issue 2: Missing Values"
   ]
  },
  {
   "cell_type": "code",
   "execution_count": 25,
   "id": "75a94109",
   "metadata": {},
   "outputs": [
    {
     "data": {
      "text/plain": [
       "show_id            0\n",
       "type               0\n",
       "title              0\n",
       "director        2634\n",
       "cast             825\n",
       "country          831\n",
       "date_added        10\n",
       "release_year       0\n",
       "rating             4\n",
       "duration           3\n",
       "listed_in          0\n",
       "description        0\n",
       "dtype: int64"
      ]
     },
     "execution_count": 25,
     "metadata": {},
     "output_type": "execute_result"
    }
   ],
   "source": [
    "df_netflix_raw.isnull().sum()"
   ]
  },
  {
   "cell_type": "code",
   "execution_count": 26,
   "id": "87305a2a",
   "metadata": {},
   "outputs": [
    {
     "data": {
      "text/plain": [
       "show_id            0\n",
       "type               0\n",
       "title              0\n",
       "director        3070\n",
       "cast            3073\n",
       "country         1453\n",
       "date_added        28\n",
       "release_year       0\n",
       "rating           520\n",
       "duration         479\n",
       "listed_in          0\n",
       "description        4\n",
       "dtype: int64"
      ]
     },
     "execution_count": 26,
     "metadata": {},
     "output_type": "execute_result"
    }
   ],
   "source": [
    "df_hulu_raw.isnull().sum()"
   ]
  },
  {
   "cell_type": "markdown",
   "id": "a91d6779",
   "metadata": {},
   "source": [
    "Issue and justification:Null values in both datasets can compromise data quality. However,to address the issue of missing data in our analysis, we can handle it by using the \"NaN\" (Not a Number) value to represent the missing data. This approach allows us to maintain the integrity of the dataset while acknowledging the presence of missing values."
   ]
  },
  {
   "cell_type": "markdown",
   "id": "91daa5fc",
   "metadata": {},
   "source": [
    "# Quality Issue 3: Invalid Ratings Values in the Ratings Column"
   ]
  },
  {
   "cell_type": "code",
   "execution_count": 27,
   "id": "dcba5b4f",
   "metadata": {},
   "outputs": [
    {
     "data": {
      "text/plain": [
       "TV-MA       3207\n",
       "TV-14       2160\n",
       "TV-PG        863\n",
       "R            799\n",
       "PG-13        490\n",
       "TV-Y7        334\n",
       "TV-Y         307\n",
       "PG           287\n",
       "TV-G         220\n",
       "NR            80\n",
       "G             41\n",
       "TV-Y7-FV       6\n",
       "NC-17          3\n",
       "UR             3\n",
       "74 min         1\n",
       "84 min         1\n",
       "66 min         1\n",
       "Name: rating, dtype: int64"
      ]
     },
     "execution_count": 27,
     "metadata": {},
     "output_type": "execute_result"
    }
   ],
   "source": [
    " # value counts for ratings\n",
    "df_netflix_raw.rating.value_counts()"
   ]
  },
  {
   "cell_type": "code",
   "execution_count": 28,
   "id": "42da2e1a",
   "metadata": {},
   "outputs": [
    {
     "data": {
      "text/plain": [
       "TV-14     691\n",
       "TV-MA     391\n",
       "R         345\n",
       "TV-PG     321\n",
       "PG-13     163\n",
       "         ... \n",
       "34 min      1\n",
       "47 min      1\n",
       "65 min      1\n",
       "37 min      1\n",
       "71 min      1\n",
       "Name: rating, Length: 88, dtype: int64"
      ]
     },
     "execution_count": 28,
     "metadata": {},
     "output_type": "execute_result"
    }
   ],
   "source": [
    "df_hulu_raw.rating.value_counts()"
   ]
  },
  {
   "cell_type": "code",
   "execution_count": 29,
   "id": "5dec40b8",
   "metadata": {},
   "outputs": [
    {
     "data": {
      "text/plain": [
       "array(['PG-13', 'TV-MA', 'PG', 'TV-14', 'TV-PG', 'TV-Y', 'TV-Y7', 'R',\n",
       "       'TV-G', 'G', 'NC-17', '74 min', '84 min', '66 min', 'NR', nan,\n",
       "       'TV-Y7-FV', 'UR'], dtype=object)"
      ]
     },
     "execution_count": 29,
     "metadata": {},
     "output_type": "execute_result"
    }
   ],
   "source": [
    "df_netflix_raw.rating.unique()"
   ]
  },
  {
   "cell_type": "code",
   "execution_count": 30,
   "id": "3df2f5cc",
   "metadata": {},
   "outputs": [
    {
     "data": {
      "text/plain": [
       "array(['TV-MA', nan, 'PG-13', 'R', 'TV-14', 'PG', 'TV-PG', 'NOT RATED',\n",
       "       'G', 'TV-G', '2 Seasons', 'TV-Y', '93 min', '4 Seasons', 'TV-Y7',\n",
       "       '136 min', '91 min', '85 min', '98 min', '89 min', '94 min',\n",
       "       '86 min', '3 Seasons', '121 min', '88 min', '101 min', '1 Season',\n",
       "       '83 min', '100 min', '95 min', '92 min', '96 min', '109 min',\n",
       "       '99 min', '75 min', '87 min', '67 min', '104 min', '107 min',\n",
       "       '84 min', '103 min', '105 min', '119 min', '114 min', '82 min',\n",
       "       '90 min', '130 min', '110 min', '80 min', '6 Seasons', '97 min',\n",
       "       '111 min', '81 min', '49 min', '45 min', '41 min', '73 min',\n",
       "       '40 min', '36 min', '39 min', '34 min', '47 min', '65 min',\n",
       "       '37 min', '78 min', '102 min', '129 min', '115 min', '112 min',\n",
       "       'NR', '61 min', '106 min', '76 min', '77 min', '79 min', '157 min',\n",
       "       '28 min', '64 min', '7 min', '5 min', '6 min', '127 min',\n",
       "       '142 min', '108 min', '57 min', '118 min', '116 min', '12 Seasons',\n",
       "       '71 min'], dtype=object)"
      ]
     },
     "execution_count": 30,
     "metadata": {},
     "output_type": "execute_result"
    }
   ],
   "source": [
    "df_hulu_raw.rating.unique()"
   ]
  },
  {
   "cell_type": "markdown",
   "id": "331af5fa",
   "metadata": {},
   "source": [
    "Issue and justification: The ratings column contains erroneous values that do not correspond to valid rating classifications. These values may be incorrect entries, misspellings, or inconsistent formats.The presence of erroneous values in the ratings column affects the data quality and reliability. It can lead to misleading or incorrect analysis or comparisons based on ratings."
   ]
  },
  {
   "cell_type": "markdown",
   "id": "a2df32ab",
   "metadata": {},
   "source": [
    "# Tidiness\n"
   ]
  },
  {
   "cell_type": "markdown",
   "id": "80293452",
   "metadata": {},
   "source": [
    "Tidiness in datasets refers to organizing data in a structured manner, where each variable has its own column, each observation has its own row, and each value occupies a single cell. This allows for easier and more efficient data analysis.\n",
    "\n",
    "The dataset I selected was well-structured overall, with the majority of columns meeting the conditions of tidy data. However, I did identify one column that did not meet the requirements of tidy data. Additionally, I identified an additional quality issue within the dataset to compensate for the lack of tidiness."
   ]
  },
  {
   "cell_type": "markdown",
   "id": "3c59157b",
   "metadata": {},
   "source": [
    "# Tidiness Issue 1: Multiple variables in Duration column\n"
   ]
  },
  {
   "cell_type": "code",
   "execution_count": 31,
   "id": "290e9c4b",
   "metadata": {},
   "outputs": [
    {
     "data": {
      "text/plain": [
       "0       90 min\n",
       "1    2 Seasons\n",
       "2     1 Season\n",
       "3     1 Season\n",
       "4    2 Seasons\n",
       "5     1 Season\n",
       "Name: duration, dtype: object"
      ]
     },
     "execution_count": 31,
     "metadata": {},
     "output_type": "execute_result"
    }
   ],
   "source": [
    "# Inspecting the dataframe visually\n",
    "df_netflix_raw['duration'].head(6)"
   ]
  },
  {
   "cell_type": "code",
   "execution_count": 32,
   "id": "2c75fcd0",
   "metadata": {},
   "outputs": [
    {
     "data": {
      "text/plain": [
       "0         NaN\n",
       "1      94 min\n",
       "2     108 min\n",
       "3      97 min\n",
       "4     104 min\n",
       "5    1 Season\n",
       "Name: duration, dtype: object"
      ]
     },
     "execution_count": 32,
     "metadata": {},
     "output_type": "execute_result"
    }
   ],
   "source": [
    "df_hulu_raw['duration'].head(6)"
   ]
  },
  {
   "cell_type": "code",
   "execution_count": 33,
   "id": "9058f8b3",
   "metadata": {},
   "outputs": [
    {
     "data": {
      "text/plain": [
       "count         8804\n",
       "unique         220\n",
       "top       1 Season\n",
       "freq          1793\n",
       "Name: duration, dtype: object"
      ]
     },
     "execution_count": 33,
     "metadata": {},
     "output_type": "execute_result"
    }
   ],
   "source": [
    "#Inspecting the dataframe programmatically\n",
    "df_netflix_raw['duration'].describe()"
   ]
  },
  {
   "cell_type": "code",
   "execution_count": 34,
   "id": "b584f78e",
   "metadata": {},
   "outputs": [
    {
     "data": {
      "text/plain": [
       "count         2594\n",
       "unique         135\n",
       "top       1 Season\n",
       "freq           829\n",
       "Name: duration, dtype: object"
      ]
     },
     "execution_count": 34,
     "metadata": {},
     "output_type": "execute_result"
    }
   ],
   "source": [
    "df_hulu_raw['duration'].describe()"
   ]
  },
  {
   "cell_type": "code",
   "execution_count": 35,
   "id": "398f35cd",
   "metadata": {},
   "outputs": [
    {
     "data": {
      "text/plain": [
       "1 Season     1793\n",
       "2 Seasons     425\n",
       "3 Seasons     199\n",
       "90 min        152\n",
       "94 min        146\n",
       "             ... \n",
       "16 min          1\n",
       "186 min         1\n",
       "193 min         1\n",
       "189 min         1\n",
       "191 min         1\n",
       "Name: duration, Length: 220, dtype: int64"
      ]
     },
     "execution_count": 35,
     "metadata": {},
     "output_type": "execute_result"
    }
   ],
   "source": [
    "df_netflix_raw.duration.value_counts()"
   ]
  },
  {
   "cell_type": "code",
   "execution_count": 36,
   "id": "5e9dd909",
   "metadata": {},
   "outputs": [
    {
     "data": {
      "text/plain": [
       "1 Season      829\n",
       "2 Seasons     265\n",
       "3 Seasons     121\n",
       "4 Seasons      99\n",
       "5 Seasons      80\n",
       "             ... \n",
       "19 Seasons      1\n",
       "30 Seasons      1\n",
       "149 min         1\n",
       "52 min          1\n",
       "26 Seasons      1\n",
       "Name: duration, Length: 135, dtype: int64"
      ]
     },
     "execution_count": 36,
     "metadata": {},
     "output_type": "execute_result"
    }
   ],
   "source": [
    "df_hulu_raw.duration.value_counts()"
   ]
  },
  {
   "cell_type": "markdown",
   "id": "8a6d4244",
   "metadata": {},
   "source": [
    "Issue and justification: The \"Duration\" column in the both dataset contains mixed units of measurement, such as seasons and minutes,combined into a single column. \n",
    "This violates the principles of tidy data, as each variable should have its own column, and the units of measurement should be consistent within a column."
   ]
  },
  {
   "cell_type": "markdown",
   "id": "b637f117",
   "metadata": {},
   "source": [
    "# 3. Clean data"
   ]
  },
  {
   "cell_type": "markdown",
   "id": "b7280cdf",
   "metadata": {},
   "source": [
    "Clean the data to solve the 4 issues corresponding to data quality and tidiness found in the assessing step. **Make sure you include justifications for your cleaning decisions.**\n",
    "\n",
    "After the cleaning for each issue, please use **either** the visually or programatical method to validate the cleaning was succesful.\n",
    "\n",
    "At this stage, you are also expected to remove variables that are unnecessary for your analysis and combine your datasets. Depending on your datasets, you may choose to perform variable combination and elimination before or after the cleaning stage. Your dataset must have **at least** 4 variables after combining the data."
   ]
  },
  {
   "cell_type": "markdown",
   "id": "6b766247",
   "metadata": {},
   "source": [
    "Make copies of the datasets to ensure the raw dataframes are not impacted"
   ]
  },
  {
   "cell_type": "code",
   "execution_count": 37,
   "id": "87493a2d",
   "metadata": {},
   "outputs": [],
   "source": [
    "df_netflix_cleaned = df_netflix_raw.copy()\n",
    "df_hulu_cleaned = df_hulu_raw.copy()"
   ]
  },
  {
   "cell_type": "markdown",
   "id": "9de42ff8",
   "metadata": {},
   "source": [
    "# Quality Issue 1: Inconsistent Data Format"
   ]
  },
  {
   "cell_type": "code",
   "execution_count": 38,
   "id": "d9eb45b6",
   "metadata": {},
   "outputs": [],
   "source": [
    "df_netflix_cleaned['date_added'] = pd.to_datetime(df_netflix_cleaned['date_added'])\n",
    "df_netflix_cleaned['type'] = df_netflix_cleaned['type'].astype('category')"
   ]
  },
  {
   "cell_type": "code",
   "execution_count": 39,
   "id": "c12afb20",
   "metadata": {},
   "outputs": [
    {
     "data": {
      "text/plain": [
       "show_id                 object\n",
       "type                  category\n",
       "title                   object\n",
       "director                object\n",
       "cast                    object\n",
       "country                 object\n",
       "date_added      datetime64[ns]\n",
       "release_year             int64\n",
       "rating                  object\n",
       "duration                object\n",
       "listed_in               object\n",
       "description             object\n",
       "dtype: object"
      ]
     },
     "execution_count": 39,
     "metadata": {},
     "output_type": "execute_result"
    }
   ],
   "source": [
    "# Validate the cleaning was successful\n",
    "df_netflix_cleaned.dtypes "
   ]
  },
  {
   "cell_type": "code",
   "execution_count": 40,
   "id": "7d6ed860",
   "metadata": {},
   "outputs": [],
   "source": [
    "df_hulu_cleaned['date_added'] = pd.to_datetime(df_hulu_cleaned['date_added'])\n",
    "df_hulu_cleaned['type'] = df_hulu_cleaned['type'].astype('category')"
   ]
  },
  {
   "cell_type": "code",
   "execution_count": 41,
   "id": "3a3edfcc",
   "metadata": {
    "scrolled": true
   },
   "outputs": [
    {
     "data": {
      "text/plain": [
       "show_id                 object\n",
       "type                  category\n",
       "title                   object\n",
       "director                object\n",
       "cast                   float64\n",
       "country                 object\n",
       "date_added      datetime64[ns]\n",
       "release_year             int64\n",
       "rating                  object\n",
       "duration                object\n",
       "listed_in               object\n",
       "description             object\n",
       "dtype: object"
      ]
     },
     "execution_count": 41,
     "metadata": {},
     "output_type": "execute_result"
    }
   ],
   "source": [
    "# Validate the cleaning was successful\n",
    "df_hulu_cleaned.dtypes "
   ]
  },
  {
   "cell_type": "markdown",
   "id": "4e1439fe",
   "metadata": {},
   "source": [
    "Justification: The code pd.to_datetime(df_dataset_cleaned['date_added']) converts the 'date_added' column to a datetime format, ensuring proper handling of dates. Similarly, df_dataset_cleaned['type'].astype('category') converts the 'type' column to the categorical type, enhancing data analysis by treating it as distinct categories. These transformations significantly improve data quality, enabling more accurate analysis and informed decision-making."
   ]
  },
  {
   "cell_type": "markdown",
   "id": "75afcaae",
   "metadata": {},
   "source": [
    "# Quality Issue 2: Missing Values: "
   ]
  },
  {
   "cell_type": "code",
   "execution_count": 42,
   "id": "8a5324b7",
   "metadata": {},
   "outputs": [
    {
     "data": {
      "text/plain": [
       "show_id            0\n",
       "type               0\n",
       "title              0\n",
       "director        2634\n",
       "cast             825\n",
       "country          831\n",
       "date_added        10\n",
       "release_year       0\n",
       "rating             4\n",
       "duration           3\n",
       "listed_in          0\n",
       "description        0\n",
       "dtype: int64"
      ]
     },
     "execution_count": 42,
     "metadata": {},
     "output_type": "execute_result"
    }
   ],
   "source": [
    "# Check nulls values\n",
    "df_netflix_cleaned.isnull().sum()"
   ]
  },
  {
   "cell_type": "code",
   "execution_count": 43,
   "id": "1ad66b83",
   "metadata": {},
   "outputs": [
    {
     "data": {
      "text/plain": [
       "show_id            0\n",
       "type               0\n",
       "title              0\n",
       "director        3070\n",
       "cast            3073\n",
       "country         1453\n",
       "date_added        28\n",
       "release_year       0\n",
       "rating           520\n",
       "duration         479\n",
       "listed_in          0\n",
       "description        4\n",
       "dtype: int64"
      ]
     },
     "execution_count": 43,
     "metadata": {},
     "output_type": "execute_result"
    }
   ],
   "source": [
    "df_hulu_cleaned.isnull().sum()"
   ]
  },
  {
   "cell_type": "code",
   "execution_count": 44,
   "id": "b4d218f7",
   "metadata": {},
   "outputs": [],
   "source": [
    "df_netflix_cleaned[['director', 'country', 'cast', 'rating', 'duration']] = df_netflix_cleaned[['director', \n",
    "'country', 'cast', 'rating', 'duration']].fillna(\"NAN\")"
   ]
  },
  {
   "cell_type": "code",
   "execution_count": 45,
   "id": "952f9dd4",
   "metadata": {},
   "outputs": [],
   "source": [
    "df_netflix_cleaned['date_added'].fillna(df_netflix_cleaned['date_added'].mode()[0], inplace=True)"
   ]
  },
  {
   "cell_type": "code",
   "execution_count": 46,
   "id": "eb854da0",
   "metadata": {},
   "outputs": [],
   "source": [
    "df_hulu_cleaned[['director','country', 'cast','rating' ,'duration','description']]= df_hulu_cleaned[['director',\n",
    "'country', 'cast','rating' ,'duration','description']].fillna(\"NAN\")"
   ]
  },
  {
   "cell_type": "code",
   "execution_count": 47,
   "id": "ebe90f00",
   "metadata": {},
   "outputs": [],
   "source": [
    "df_hulu_cleaned['date_added'].fillna(df_hulu_cleaned['date_added'].mode()[0], inplace=True)"
   ]
  },
  {
   "cell_type": "code",
   "execution_count": 48,
   "id": "824fa80d",
   "metadata": {},
   "outputs": [
    {
     "data": {
      "text/plain": [
       "show_id         0\n",
       "type            0\n",
       "title           0\n",
       "director        0\n",
       "cast            0\n",
       "country         0\n",
       "date_added      0\n",
       "release_year    0\n",
       "rating          0\n",
       "duration        0\n",
       "listed_in       0\n",
       "description     0\n",
       "dtype: int64"
      ]
     },
     "execution_count": 48,
     "metadata": {},
     "output_type": "execute_result"
    }
   ],
   "source": [
    "#Validate the cleaning was successful\n",
    "df_netflix_cleaned.isnull().sum()"
   ]
  },
  {
   "cell_type": "code",
   "execution_count": 49,
   "id": "480ddffc",
   "metadata": {},
   "outputs": [
    {
     "data": {
      "text/plain": [
       "show_id         0\n",
       "type            0\n",
       "title           0\n",
       "director        0\n",
       "cast            0\n",
       "country         0\n",
       "date_added      0\n",
       "release_year    0\n",
       "rating          0\n",
       "duration        0\n",
       "listed_in       0\n",
       "description     0\n",
       "dtype: int64"
      ]
     },
     "execution_count": 49,
     "metadata": {},
     "output_type": "execute_result"
    }
   ],
   "source": [
    "df_hulu_cleaned.isnull().sum()"
   ]
  },
  {
   "cell_type": "markdown",
   "id": "134558f3",
   "metadata": {},
   "source": [
    "Justification:The first code snippet is justified as it fills missing values with the string 'NAN' in the specified columns. This approach of using a distinct indicator like 'NAN' is one strategy for handling missing data. The choice of this approach depends on various factors, including the data's nature and the specific analysis requirements.\n",
    "\n",
    "The second code snippet is also justified as it fills missing values in the 'date_added' column with the most frequent value in that column. This strategy of imputing missing values with the mode value is another approach for handling missing data. The suitability of this approach depends on factors such as the distribution of values in the column and the potential impact of the imputed values on the analysis results."
   ]
  },
  {
   "cell_type": "markdown",
   "id": "c0316707",
   "metadata": {},
   "source": [
    "# Quality Issue 3: Invalid Ratings Values in the Ratings Column"
   ]
  },
  {
   "cell_type": "code",
   "execution_count": 50,
   "id": "4de35ebf",
   "metadata": {},
   "outputs": [
    {
     "data": {
      "text/plain": [
       "TV-MA       3207\n",
       "TV-14       2160\n",
       "TV-PG        863\n",
       "R            799\n",
       "PG-13        490\n",
       "TV-Y7        334\n",
       "TV-Y         307\n",
       "PG           287\n",
       "TV-G         220\n",
       "NR            80\n",
       "G             41\n",
       "TV-Y7-FV       6\n",
       "NAN            4\n",
       "NC-17          3\n",
       "UR             3\n",
       "74 min         1\n",
       "84 min         1\n",
       "66 min         1\n",
       "Name: rating, dtype: int64"
      ]
     },
     "execution_count": 50,
     "metadata": {},
     "output_type": "execute_result"
    }
   ],
   "source": [
    " # value counts for ratings\n",
    "df_netflix_cleaned.rating.value_counts()"
   ]
  },
  {
   "cell_type": "code",
   "execution_count": 51,
   "id": "1f74b428",
   "metadata": {},
   "outputs": [
    {
     "data": {
      "text/plain": [
       "TV-14        691\n",
       "NAN          520\n",
       "TV-MA        391\n",
       "R            345\n",
       "TV-PG        321\n",
       "            ... \n",
       "47 min         1\n",
       "65 min         1\n",
       "37 min         1\n",
       "NOT RATED      1\n",
       "71 min         1\n",
       "Name: rating, Length: 89, dtype: int64"
      ]
     },
     "execution_count": 51,
     "metadata": {},
     "output_type": "execute_result"
    }
   ],
   "source": [
    "df_hulu_cleaned.rating.value_counts()"
   ]
  },
  {
   "cell_type": "code",
   "execution_count": 52,
   "id": "6a83ddaf",
   "metadata": {},
   "outputs": [
    {
     "data": {
      "text/plain": [
       "array(['PG-13', 'TV-MA', 'PG', 'TV-14', 'TV-PG', 'TV-Y', 'TV-Y7', 'R',\n",
       "       'TV-G', 'G', 'NC-17', '74 min', '84 min', '66 min', 'NR', 'NAN',\n",
       "       'TV-Y7-FV', 'UR'], dtype=object)"
      ]
     },
     "execution_count": 52,
     "metadata": {},
     "output_type": "execute_result"
    }
   ],
   "source": [
    "df_netflix_cleaned.rating.unique()"
   ]
  },
  {
   "cell_type": "code",
   "execution_count": 53,
   "id": "85900427",
   "metadata": {},
   "outputs": [],
   "source": [
    "def Invalid_rating_with_nan(df, column_name):\n",
    "    # Identify rows with invalid rating values\n",
    "    invalid_rating_rows = df[column_name].str.contains('min|Season', na=False)\n",
    "\n",
    "    # Replace invalid rating values with NaN\n",
    "    df.loc[invalid_rating_rows, column_name] = np.nan"
   ]
  },
  {
   "cell_type": "code",
   "execution_count": 54,
   "id": "2c826463",
   "metadata": {},
   "outputs": [],
   "source": [
    "Invalid_rating_with_nan(df_netflix_cleaned, 'rating')"
   ]
  },
  {
   "cell_type": "code",
   "execution_count": 55,
   "id": "ae25ec47",
   "metadata": {},
   "outputs": [
    {
     "data": {
      "text/plain": [
       "array(['PG-13', 'TV-MA', 'PG', 'TV-14', 'TV-PG', 'TV-Y', 'TV-Y7', 'R',\n",
       "       'TV-G', 'G', 'NC-17', nan, 'NR', 'NAN', 'TV-Y7-FV', 'UR'],\n",
       "      dtype=object)"
      ]
     },
     "execution_count": 55,
     "metadata": {},
     "output_type": "execute_result"
    }
   ],
   "source": [
    "# Validate the cleaning was successful\n",
    "df_netflix_cleaned.rating.unique()"
   ]
  },
  {
   "cell_type": "code",
   "execution_count": 56,
   "id": "92b56e08",
   "metadata": {},
   "outputs": [],
   "source": [
    "Invalid_rating_with_nan(df_hulu_cleaned, 'rating')"
   ]
  },
  {
   "cell_type": "code",
   "execution_count": 57,
   "id": "48a0a068",
   "metadata": {},
   "outputs": [
    {
     "data": {
      "text/plain": [
       "array(['TV-MA', 'NAN', 'PG-13', 'R', 'TV-14', 'PG', 'TV-PG', 'NOT RATED',\n",
       "       'G', 'TV-G', nan, 'TV-Y', 'TV-Y7', 'NR'], dtype=object)"
      ]
     },
     "execution_count": 57,
     "metadata": {},
     "output_type": "execute_result"
    }
   ],
   "source": [
    "# Validate the cleaning was successful\n",
    "df_hulu_cleaned.rating.unique()"
   ]
  },
  {
   "cell_type": "markdown",
   "id": "a81d078b",
   "metadata": {},
   "source": [
    "Justification:The code utilizes the str.contains() method to identify rows with invalid ratings,specifically those containing \"min\" or \"Season\" entries. It then uses .loc indexing to select these rows and replaces the corresponding values in the specified column with NaN. This method ensures data integrity by replacing invalid ratings with NaN, denoting missing or unknown values."
   ]
  },
  {
   "cell_type": "markdown",
   "id": "b0a25d20",
   "metadata": {},
   "source": [
    "# Tidiness Issue 1: Multiple variables in Duration column\n"
   ]
  },
  {
   "cell_type": "code",
   "execution_count": 58,
   "id": "93a0afea",
   "metadata": {},
   "outputs": [
    {
     "data": {
      "text/plain": [
       "0       90 min\n",
       "1    2 Seasons\n",
       "2     1 Season\n",
       "3     1 Season\n",
       "4    2 Seasons\n",
       "5     1 Season\n",
       "Name: duration, dtype: object"
      ]
     },
     "execution_count": 58,
     "metadata": {},
     "output_type": "execute_result"
    }
   ],
   "source": [
    "df_netflix_cleaned['duration'].head(6)"
   ]
  },
  {
   "cell_type": "code",
   "execution_count": 59,
   "id": "45b6fe48",
   "metadata": {},
   "outputs": [
    {
     "data": {
      "text/plain": [
       "0         NAN\n",
       "1      94 min\n",
       "2     108 min\n",
       "3      97 min\n",
       "4     104 min\n",
       "5    1 Season\n",
       "Name: duration, dtype: object"
      ]
     },
     "execution_count": 59,
     "metadata": {},
     "output_type": "execute_result"
    }
   ],
   "source": [
    "df_hulu_cleaned['duration'].head(6)"
   ]
  },
  {
   "cell_type": "code",
   "execution_count": 60,
   "id": "4259f57f",
   "metadata": {},
   "outputs": [],
   "source": [
    "# Extract numeric values and units into separate columns\n",
    "duration_pattern = df_netflix_cleaned.duration.str.extract(\n",
    "    r\"(?P<minutes>\\d+) min|(?P<seasons>\\d+) Seasons\")"
   ]
  },
  {
   "cell_type": "code",
   "execution_count": 61,
   "id": "fedd559e",
   "metadata": {},
   "outputs": [
    {
     "name": "stdout",
     "output_type": "stream",
     "text": [
      "<class 'pandas.core.frame.DataFrame'>\n",
      "RangeIndex: 8807 entries, 0 to 8806\n",
      "Data columns (total 2 columns):\n",
      " #   Column   Non-Null Count  Dtype \n",
      "---  ------   --------------  ----- \n",
      " 0   minutes  6128 non-null   object\n",
      " 1   seasons  883 non-null    object\n",
      "dtypes: object(2)\n",
      "memory usage: 137.7+ KB\n"
     ]
    }
   ],
   "source": [
    "duration_pattern.info()"
   ]
  },
  {
   "cell_type": "code",
   "execution_count": 62,
   "id": "77a8ff83",
   "metadata": {},
   "outputs": [],
   "source": [
    "# Convert the extracted columns to numeric type and then convert them to integers\n",
    "duration_pattern['minutes'] = pd.to_numeric(duration_pattern['minutes']).astype('Int64')\n",
    "duration_pattern['seasons'] = pd.to_numeric(duration_pattern['seasons']).astype('Int64')"
   ]
  },
  {
   "cell_type": "code",
   "execution_count": 63,
   "id": "50742ce1",
   "metadata": {},
   "outputs": [
    {
     "name": "stdout",
     "output_type": "stream",
     "text": [
      "<class 'pandas.core.frame.DataFrame'>\n",
      "RangeIndex: 8807 entries, 0 to 8806\n",
      "Data columns (total 2 columns):\n",
      " #   Column   Non-Null Count  Dtype\n",
      "---  ------   --------------  -----\n",
      " 0   minutes  6128 non-null   Int64\n",
      " 1   seasons  883 non-null    Int64\n",
      "dtypes: Int64(2)\n",
      "memory usage: 154.9 KB\n"
     ]
    }
   ],
   "source": [
    "duration_pattern.info()"
   ]
  },
  {
   "cell_type": "code",
   "execution_count": 64,
   "id": "203e2667",
   "metadata": {},
   "outputs": [],
   "source": [
    "# Combine extracted columns with the original DataFrame\n",
    "df_netflix_cleaned = pd.concat([df_netflix_cleaned, duration_pattern], axis=1)\n",
    "\n",
    "# Drop the original \"duration\" column\n",
    "df_netflix_cleaned = df_netflix_cleaned.drop('duration', axis=1)"
   ]
  },
  {
   "cell_type": "code",
   "execution_count": 65,
   "id": "9e54d68a",
   "metadata": {},
   "outputs": [
    {
     "data": {
      "text/html": [
       "<div>\n",
       "<style scoped>\n",
       "    .dataframe tbody tr th:only-of-type {\n",
       "        vertical-align: middle;\n",
       "    }\n",
       "\n",
       "    .dataframe tbody tr th {\n",
       "        vertical-align: top;\n",
       "    }\n",
       "\n",
       "    .dataframe thead th {\n",
       "        text-align: right;\n",
       "    }\n",
       "</style>\n",
       "<table border=\"1\" class=\"dataframe\">\n",
       "  <thead>\n",
       "    <tr style=\"text-align: right;\">\n",
       "      <th></th>\n",
       "      <th>show_id</th>\n",
       "      <th>type</th>\n",
       "      <th>title</th>\n",
       "      <th>director</th>\n",
       "      <th>cast</th>\n",
       "      <th>country</th>\n",
       "      <th>date_added</th>\n",
       "      <th>release_year</th>\n",
       "      <th>rating</th>\n",
       "      <th>listed_in</th>\n",
       "      <th>description</th>\n",
       "      <th>minutes</th>\n",
       "      <th>seasons</th>\n",
       "    </tr>\n",
       "  </thead>\n",
       "  <tbody>\n",
       "    <tr>\n",
       "      <th>0</th>\n",
       "      <td>s1</td>\n",
       "      <td>Movie</td>\n",
       "      <td>Dick Johnson Is Dead</td>\n",
       "      <td>Kirsten Johnson</td>\n",
       "      <td>NAN</td>\n",
       "      <td>United States</td>\n",
       "      <td>2021-09-25</td>\n",
       "      <td>2020</td>\n",
       "      <td>PG-13</td>\n",
       "      <td>Documentaries</td>\n",
       "      <td>As her father nears the end of his life, filmm...</td>\n",
       "      <td>90</td>\n",
       "      <td>&lt;NA&gt;</td>\n",
       "    </tr>\n",
       "    <tr>\n",
       "      <th>1</th>\n",
       "      <td>s2</td>\n",
       "      <td>TV Show</td>\n",
       "      <td>Blood &amp; Water</td>\n",
       "      <td>NAN</td>\n",
       "      <td>Ama Qamata, Khosi Ngema, Gail Mabalane, Thaban...</td>\n",
       "      <td>South Africa</td>\n",
       "      <td>2021-09-24</td>\n",
       "      <td>2021</td>\n",
       "      <td>TV-MA</td>\n",
       "      <td>International TV Shows, TV Dramas, TV Mysteries</td>\n",
       "      <td>After crossing paths at a party, a Cape Town t...</td>\n",
       "      <td>&lt;NA&gt;</td>\n",
       "      <td>2</td>\n",
       "    </tr>\n",
       "    <tr>\n",
       "      <th>2</th>\n",
       "      <td>s3</td>\n",
       "      <td>TV Show</td>\n",
       "      <td>Ganglands</td>\n",
       "      <td>Julien Leclercq</td>\n",
       "      <td>Sami Bouajila, Tracy Gotoas, Samuel Jouy, Nabi...</td>\n",
       "      <td>NAN</td>\n",
       "      <td>2021-09-24</td>\n",
       "      <td>2021</td>\n",
       "      <td>TV-MA</td>\n",
       "      <td>Crime TV Shows, International TV Shows, TV Act...</td>\n",
       "      <td>To protect his family from a powerful drug lor...</td>\n",
       "      <td>&lt;NA&gt;</td>\n",
       "      <td>&lt;NA&gt;</td>\n",
       "    </tr>\n",
       "  </tbody>\n",
       "</table>\n",
       "</div>"
      ],
      "text/plain": [
       "  show_id     type                 title         director  \\\n",
       "0      s1    Movie  Dick Johnson Is Dead  Kirsten Johnson   \n",
       "1      s2  TV Show         Blood & Water              NAN   \n",
       "2      s3  TV Show             Ganglands  Julien Leclercq   \n",
       "\n",
       "                                                cast        country  \\\n",
       "0                                                NAN  United States   \n",
       "1  Ama Qamata, Khosi Ngema, Gail Mabalane, Thaban...   South Africa   \n",
       "2  Sami Bouajila, Tracy Gotoas, Samuel Jouy, Nabi...            NAN   \n",
       "\n",
       "  date_added  release_year rating  \\\n",
       "0 2021-09-25          2020  PG-13   \n",
       "1 2021-09-24          2021  TV-MA   \n",
       "2 2021-09-24          2021  TV-MA   \n",
       "\n",
       "                                           listed_in  \\\n",
       "0                                      Documentaries   \n",
       "1    International TV Shows, TV Dramas, TV Mysteries   \n",
       "2  Crime TV Shows, International TV Shows, TV Act...   \n",
       "\n",
       "                                         description  minutes  seasons  \n",
       "0  As her father nears the end of his life, filmm...       90     <NA>  \n",
       "1  After crossing paths at a party, a Cape Town t...     <NA>        2  \n",
       "2  To protect his family from a powerful drug lor...     <NA>     <NA>  "
      ]
     },
     "execution_count": 65,
     "metadata": {},
     "output_type": "execute_result"
    }
   ],
   "source": [
    "# Validate the cleaning was successful\n",
    "df_netflix_cleaned.head(3)"
   ]
  },
  {
   "cell_type": "markdown",
   "id": "8a2f16b1",
   "metadata": {},
   "source": [
    "I'll use the same approach for Hulu Dataset."
   ]
  },
  {
   "cell_type": "code",
   "execution_count": 66,
   "id": "7d3b21b9",
   "metadata": {},
   "outputs": [],
   "source": [
    "# Extract numeric values and units into separate columns\n",
    "duration_pattern_hulu = df_hulu_cleaned.duration.str.extract(\n",
    "    r\"(?P<minutes>\\d+) min|(?P<seasons>\\d+) Seasons\")"
   ]
  },
  {
   "cell_type": "code",
   "execution_count": 67,
   "id": "167db164",
   "metadata": {},
   "outputs": [
    {
     "name": "stdout",
     "output_type": "stream",
     "text": [
      "<class 'pandas.core.frame.DataFrame'>\n",
      "RangeIndex: 3073 entries, 0 to 3072\n",
      "Data columns (total 2 columns):\n",
      " #   Column   Non-Null Count  Dtype \n",
      "---  ------   --------------  ----- \n",
      " 0   minutes  1005 non-null   object\n",
      " 1   seasons  760 non-null    object\n",
      "dtypes: object(2)\n",
      "memory usage: 48.1+ KB\n"
     ]
    }
   ],
   "source": [
    "duration_pattern_hulu.info()"
   ]
  },
  {
   "cell_type": "code",
   "execution_count": 68,
   "id": "ce174299",
   "metadata": {},
   "outputs": [],
   "source": [
    "# Convert extracted columns to numeric type and then convert to int\n",
    "duration_pattern_hulu['minutes'] = pd.to_numeric(duration_pattern_hulu['minutes']).astype('Int64')\n",
    "duration_pattern_hulu['seasons'] = pd.to_numeric(duration_pattern_hulu['seasons']).astype('Int64')"
   ]
  },
  {
   "cell_type": "code",
   "execution_count": 69,
   "id": "3c19e198",
   "metadata": {},
   "outputs": [],
   "source": [
    "# Combine extracted columns with the original DataFrame\n",
    "df_hulu_cleaned = pd.concat([df_hulu_cleaned, duration_pattern_hulu], axis=1)\n",
    "\n",
    "# Drop the original \"duration\" column\n",
    "df_hulu_cleaned = df_hulu_cleaned.drop('duration', axis=1)"
   ]
  },
  {
   "cell_type": "code",
   "execution_count": 70,
   "id": "5f23e302",
   "metadata": {},
   "outputs": [
    {
     "data": {
      "text/html": [
       "<div>\n",
       "<style scoped>\n",
       "    .dataframe tbody tr th:only-of-type {\n",
       "        vertical-align: middle;\n",
       "    }\n",
       "\n",
       "    .dataframe tbody tr th {\n",
       "        vertical-align: top;\n",
       "    }\n",
       "\n",
       "    .dataframe thead th {\n",
       "        text-align: right;\n",
       "    }\n",
       "</style>\n",
       "<table border=\"1\" class=\"dataframe\">\n",
       "  <thead>\n",
       "    <tr style=\"text-align: right;\">\n",
       "      <th></th>\n",
       "      <th>show_id</th>\n",
       "      <th>type</th>\n",
       "      <th>title</th>\n",
       "      <th>director</th>\n",
       "      <th>cast</th>\n",
       "      <th>country</th>\n",
       "      <th>date_added</th>\n",
       "      <th>release_year</th>\n",
       "      <th>rating</th>\n",
       "      <th>listed_in</th>\n",
       "      <th>description</th>\n",
       "      <th>minutes</th>\n",
       "      <th>seasons</th>\n",
       "    </tr>\n",
       "  </thead>\n",
       "  <tbody>\n",
       "    <tr>\n",
       "      <th>0</th>\n",
       "      <td>s1</td>\n",
       "      <td>Movie</td>\n",
       "      <td>Ricky Velez: Here's Everything</td>\n",
       "      <td>NAN</td>\n",
       "      <td>NAN</td>\n",
       "      <td>NAN</td>\n",
       "      <td>2021-10-24</td>\n",
       "      <td>2021</td>\n",
       "      <td>TV-MA</td>\n",
       "      <td>Comedy, Stand Up</td>\n",
       "      <td>​Comedian Ricky Velez bares it all with his ho...</td>\n",
       "      <td>&lt;NA&gt;</td>\n",
       "      <td>&lt;NA&gt;</td>\n",
       "    </tr>\n",
       "    <tr>\n",
       "      <th>1</th>\n",
       "      <td>s2</td>\n",
       "      <td>Movie</td>\n",
       "      <td>Silent Night</td>\n",
       "      <td>NAN</td>\n",
       "      <td>NAN</td>\n",
       "      <td>NAN</td>\n",
       "      <td>2021-10-23</td>\n",
       "      <td>2020</td>\n",
       "      <td>NAN</td>\n",
       "      <td>Crime, Drama, Thriller</td>\n",
       "      <td>Mark, a low end South London hitman recently r...</td>\n",
       "      <td>94</td>\n",
       "      <td>&lt;NA&gt;</td>\n",
       "    </tr>\n",
       "  </tbody>\n",
       "</table>\n",
       "</div>"
      ],
      "text/plain": [
       "  show_id   type                           title director cast country  \\\n",
       "0      s1  Movie  Ricky Velez: Here's Everything      NAN  NAN     NAN   \n",
       "1      s2  Movie                    Silent Night      NAN  NAN     NAN   \n",
       "\n",
       "  date_added  release_year rating               listed_in  \\\n",
       "0 2021-10-24          2021  TV-MA        Comedy, Stand Up   \n",
       "1 2021-10-23          2020    NAN  Crime, Drama, Thriller   \n",
       "\n",
       "                                         description  minutes  seasons  \n",
       "0  ​Comedian Ricky Velez bares it all with his ho...     <NA>     <NA>  \n",
       "1  Mark, a low end South London hitman recently r...       94     <NA>  "
      ]
     },
     "execution_count": 70,
     "metadata": {},
     "output_type": "execute_result"
    }
   ],
   "source": [
    "# Validate the cleaning was successful\n",
    "df_hulu_cleaned.head(2)"
   ]
  },
  {
   "cell_type": "markdown",
   "id": "2e2bb316",
   "metadata": {},
   "source": [
    "Justification:We extracted the numerical values and units (minutes or seasons) from a string representing durations using regular expressions. The extracted values were converted to integers and combined with the original dataset, resulting in a clean and organized dataset. By dropping the original column, we removed unnecessary information and ensured the dataset was suitable for further analysis and interpretation."
   ]
  },
  {
   "cell_type": "markdown",
   "id": "fd9e7091",
   "metadata": {},
   "source": [
    "# Remove unnecessary variables and combine datasets\n"
   ]
  },
  {
   "cell_type": "code",
   "execution_count": 71,
   "id": "fff5f024",
   "metadata": {},
   "outputs": [],
   "source": [
    "# Remove unnecessary variables and combine Netflix and Hulu datasets\n",
    "df_netflix_cleaned = df_netflix_cleaned[[\"type\",\"title\", \"release_year\",\"rating\",\"minutes\", \"seasons\"]]\n",
    "df_hulu_cleaned = df_hulu_cleaned[[\"type\", \"title\",\"release_year\",\"rating\",\"minutes\", \"seasons\"]]"
   ]
  },
  {
   "cell_type": "code",
   "execution_count": 72,
   "id": "4308812d",
   "metadata": {},
   "outputs": [
    {
     "name": "stdout",
     "output_type": "stream",
     "text": [
      "<class 'pandas.core.frame.DataFrame'>\n",
      "RangeIndex: 8807 entries, 0 to 8806\n",
      "Data columns (total 6 columns):\n",
      " #   Column        Non-Null Count  Dtype   \n",
      "---  ------        --------------  -----   \n",
      " 0   type          8807 non-null   category\n",
      " 1   title         8807 non-null   object  \n",
      " 2   release_year  8807 non-null   int64   \n",
      " 3   rating        8804 non-null   object  \n",
      " 4   minutes       6128 non-null   Int64   \n",
      " 5   seasons       883 non-null    Int64   \n",
      "dtypes: Int64(2), category(1), int64(1), object(2)\n",
      "memory usage: 370.1+ KB\n"
     ]
    }
   ],
   "source": [
    "df_netflix_cleaned.info()"
   ]
  },
  {
   "cell_type": "code",
   "execution_count": 73,
   "id": "ba644961",
   "metadata": {},
   "outputs": [
    {
     "name": "stdout",
     "output_type": "stream",
     "text": [
      "<class 'pandas.core.frame.DataFrame'>\n",
      "RangeIndex: 3073 entries, 0 to 3072\n",
      "Data columns (total 6 columns):\n",
      " #   Column        Non-Null Count  Dtype   \n",
      "---  ------        --------------  -----   \n",
      " 0   type          3073 non-null   category\n",
      " 1   title         3073 non-null   object  \n",
      " 2   release_year  3073 non-null   int64   \n",
      " 3   rating        2781 non-null   object  \n",
      " 4   minutes       1005 non-null   Int64   \n",
      " 5   seasons       760 non-null    Int64   \n",
      "dtypes: Int64(2), category(1), int64(1), object(2)\n",
      "memory usage: 129.3+ KB\n"
     ]
    }
   ],
   "source": [
    "df_hulu_cleaned.info()"
   ]
  },
  {
   "cell_type": "code",
   "execution_count": 74,
   "id": "ce926541",
   "metadata": {},
   "outputs": [
    {
     "data": {
      "text/html": [
       "<div>\n",
       "<style scoped>\n",
       "    .dataframe tbody tr th:only-of-type {\n",
       "        vertical-align: middle;\n",
       "    }\n",
       "\n",
       "    .dataframe tbody tr th {\n",
       "        vertical-align: top;\n",
       "    }\n",
       "\n",
       "    .dataframe thead th {\n",
       "        text-align: right;\n",
       "    }\n",
       "</style>\n",
       "<table border=\"1\" class=\"dataframe\">\n",
       "  <thead>\n",
       "    <tr style=\"text-align: right;\">\n",
       "      <th></th>\n",
       "      <th>type_x</th>\n",
       "      <th>title</th>\n",
       "      <th>release_year_x</th>\n",
       "      <th>rating_x</th>\n",
       "      <th>minutes_x</th>\n",
       "      <th>seasons_x</th>\n",
       "      <th>type_y</th>\n",
       "      <th>release_year_y</th>\n",
       "      <th>rating_y</th>\n",
       "      <th>minutes_y</th>\n",
       "      <th>seasons_y</th>\n",
       "      <th>_merge</th>\n",
       "    </tr>\n",
       "  </thead>\n",
       "  <tbody>\n",
       "    <tr>\n",
       "      <th>0</th>\n",
       "      <td>Movie</td>\n",
       "      <td>Dick Johnson Is Dead</td>\n",
       "      <td>2020.0</td>\n",
       "      <td>PG-13</td>\n",
       "      <td>90</td>\n",
       "      <td>&lt;NA&gt;</td>\n",
       "      <td>NaN</td>\n",
       "      <td>NaN</td>\n",
       "      <td>NaN</td>\n",
       "      <td>&lt;NA&gt;</td>\n",
       "      <td>&lt;NA&gt;</td>\n",
       "      <td>left_only</td>\n",
       "    </tr>\n",
       "    <tr>\n",
       "      <th>1</th>\n",
       "      <td>TV Show</td>\n",
       "      <td>Blood &amp; Water</td>\n",
       "      <td>2021.0</td>\n",
       "      <td>TV-MA</td>\n",
       "      <td>&lt;NA&gt;</td>\n",
       "      <td>2</td>\n",
       "      <td>NaN</td>\n",
       "      <td>NaN</td>\n",
       "      <td>NaN</td>\n",
       "      <td>&lt;NA&gt;</td>\n",
       "      <td>&lt;NA&gt;</td>\n",
       "      <td>left_only</td>\n",
       "    </tr>\n",
       "    <tr>\n",
       "      <th>2</th>\n",
       "      <td>TV Show</td>\n",
       "      <td>Ganglands</td>\n",
       "      <td>2021.0</td>\n",
       "      <td>TV-MA</td>\n",
       "      <td>&lt;NA&gt;</td>\n",
       "      <td>&lt;NA&gt;</td>\n",
       "      <td>NaN</td>\n",
       "      <td>NaN</td>\n",
       "      <td>NaN</td>\n",
       "      <td>&lt;NA&gt;</td>\n",
       "      <td>&lt;NA&gt;</td>\n",
       "      <td>left_only</td>\n",
       "    </tr>\n",
       "  </tbody>\n",
       "</table>\n",
       "</div>"
      ],
      "text/plain": [
       "    type_x                 title  release_year_x rating_x  minutes_x  \\\n",
       "0    Movie  Dick Johnson Is Dead          2020.0    PG-13         90   \n",
       "1  TV Show         Blood & Water          2021.0    TV-MA       <NA>   \n",
       "2  TV Show             Ganglands          2021.0    TV-MA       <NA>   \n",
       "\n",
       "   seasons_x type_y  release_year_y rating_y  minutes_y  seasons_y     _merge  \n",
       "0       <NA>    NaN             NaN      NaN       <NA>       <NA>  left_only  \n",
       "1          2    NaN             NaN      NaN       <NA>       <NA>  left_only  \n",
       "2       <NA>    NaN             NaN      NaN       <NA>       <NA>  left_only  "
      ]
     },
     "execution_count": 74,
     "metadata": {},
     "output_type": "execute_result"
    }
   ],
   "source": [
    "merged_df = pd.merge(\n",
    "df_netflix_cleaned,df_hulu_cleaned,on=[\"title\"],how=\"outer\",indicator=True,)\n",
    "merged_df.head(3)"
   ]
  },
  {
   "cell_type": "code",
   "execution_count": 75,
   "id": "528a2968",
   "metadata": {
    "scrolled": true
   },
   "outputs": [
    {
     "name": "stdout",
     "output_type": "stream",
     "text": [
      "<class 'pandas.core.frame.DataFrame'>\n",
      "Int64Index: 11649 entries, 0 to 11648\n",
      "Data columns (total 12 columns):\n",
      " #   Column          Non-Null Count  Dtype   \n",
      "---  ------          --------------  -----   \n",
      " 0   type_x          8807 non-null   category\n",
      " 1   title           11649 non-null  object  \n",
      " 2   release_year_x  8807 non-null   float64 \n",
      " 3   rating_x        8804 non-null   object  \n",
      " 4   minutes_x       6128 non-null   Int64   \n",
      " 5   seasons_x       883 non-null    Int64   \n",
      " 6   type_y          3073 non-null   category\n",
      " 7   release_year_y  3073 non-null   float64 \n",
      " 8   rating_y        2781 non-null   object  \n",
      " 9   minutes_y       1005 non-null   Int64   \n",
      " 10  seasons_y       760 non-null    Int64   \n",
      " 11  _merge          11649 non-null  category\n",
      "dtypes: Int64(4), category(3), float64(2), object(3)\n",
      "memory usage: 990.1+ KB\n"
     ]
    }
   ],
   "source": [
    "merged_df.info()"
   ]
  },
  {
   "cell_type": "code",
   "execution_count": 76,
   "id": "157390cd",
   "metadata": {
    "scrolled": true
   },
   "outputs": [],
   "source": [
    "merged_df[\"type\"] = merged_df[\"type_x\"].combine_first(merged_df[\"type_y\"])\n",
    "\n",
    "merged_df[\"release_year\"] = merged_df[\"release_year_x\"].combine_first(\n",
    "    merged_df[\"release_year_y\"]\n",
    ")\n",
    "merged_df[\"rating\"] = merged_df[\"rating_x\"].combine_first(\n",
    "    merged_df[\"rating_y\"]\n",
    ")\n",
    "merged_df[\"minutes\"] = merged_df[\"minutes_x\"].combine_first(\n",
    "\n",
    "    merged_df[\"minutes_y\"])\n",
    "merged_df[\"seasons\"] = merged_df[\"seasons_x\"].combine_first(\n",
    "    merged_df[\"seasons_y\"])\n",
    "#The code merges the values from two columns in a DataFrame, combining them into a new column."
   ]
  },
  {
   "cell_type": "code",
   "execution_count": 77,
   "id": "1bb5e23f",
   "metadata": {},
   "outputs": [],
   "source": [
    "#Replacing \"left_only\" with \"Netflix\" and \"right_only\" with \"Hulu\" in the \"_merge\" column\n",
    "merged_df[\"_merge\"].replace(\"left_only\", \"Netflix\", inplace=True)\n",
    "merged_df[\"_merge\"].replace(\"right_only\", \"Hulu\", inplace=True)"
   ]
  },
  {
   "cell_type": "code",
   "execution_count": 78,
   "id": "ccbc986f",
   "metadata": {},
   "outputs": [],
   "source": [
    "merged_df.rename(columns={\"_merge\": \"Streaming_Platform\"}, inplace=True)"
   ]
  },
  {
   "cell_type": "code",
   "execution_count": 79,
   "id": "f75fe546",
   "metadata": {},
   "outputs": [
    {
     "data": {
      "text/html": [
       "<div>\n",
       "<style scoped>\n",
       "    .dataframe tbody tr th:only-of-type {\n",
       "        vertical-align: middle;\n",
       "    }\n",
       "\n",
       "    .dataframe tbody tr th {\n",
       "        vertical-align: top;\n",
       "    }\n",
       "\n",
       "    .dataframe thead th {\n",
       "        text-align: right;\n",
       "    }\n",
       "</style>\n",
       "<table border=\"1\" class=\"dataframe\">\n",
       "  <thead>\n",
       "    <tr style=\"text-align: right;\">\n",
       "      <th></th>\n",
       "      <th>type_x</th>\n",
       "      <th>title</th>\n",
       "      <th>release_year_x</th>\n",
       "      <th>rating_x</th>\n",
       "      <th>minutes_x</th>\n",
       "      <th>seasons_x</th>\n",
       "      <th>type_y</th>\n",
       "      <th>release_year_y</th>\n",
       "      <th>rating_y</th>\n",
       "      <th>minutes_y</th>\n",
       "      <th>seasons_y</th>\n",
       "      <th>Streaming_Platform</th>\n",
       "      <th>type</th>\n",
       "      <th>release_year</th>\n",
       "      <th>rating</th>\n",
       "      <th>minutes</th>\n",
       "      <th>seasons</th>\n",
       "    </tr>\n",
       "  </thead>\n",
       "  <tbody>\n",
       "    <tr>\n",
       "      <th>0</th>\n",
       "      <td>Movie</td>\n",
       "      <td>Dick Johnson Is Dead</td>\n",
       "      <td>2020.0</td>\n",
       "      <td>PG-13</td>\n",
       "      <td>90</td>\n",
       "      <td>&lt;NA&gt;</td>\n",
       "      <td>NaN</td>\n",
       "      <td>NaN</td>\n",
       "      <td>NaN</td>\n",
       "      <td>&lt;NA&gt;</td>\n",
       "      <td>&lt;NA&gt;</td>\n",
       "      <td>Netflix</td>\n",
       "      <td>Movie</td>\n",
       "      <td>2020.0</td>\n",
       "      <td>PG-13</td>\n",
       "      <td>90</td>\n",
       "      <td>&lt;NA&gt;</td>\n",
       "    </tr>\n",
       "    <tr>\n",
       "      <th>1</th>\n",
       "      <td>TV Show</td>\n",
       "      <td>Blood &amp; Water</td>\n",
       "      <td>2021.0</td>\n",
       "      <td>TV-MA</td>\n",
       "      <td>&lt;NA&gt;</td>\n",
       "      <td>2</td>\n",
       "      <td>NaN</td>\n",
       "      <td>NaN</td>\n",
       "      <td>NaN</td>\n",
       "      <td>&lt;NA&gt;</td>\n",
       "      <td>&lt;NA&gt;</td>\n",
       "      <td>Netflix</td>\n",
       "      <td>TV Show</td>\n",
       "      <td>2021.0</td>\n",
       "      <td>TV-MA</td>\n",
       "      <td>&lt;NA&gt;</td>\n",
       "      <td>2</td>\n",
       "    </tr>\n",
       "    <tr>\n",
       "      <th>2</th>\n",
       "      <td>TV Show</td>\n",
       "      <td>Ganglands</td>\n",
       "      <td>2021.0</td>\n",
       "      <td>TV-MA</td>\n",
       "      <td>&lt;NA&gt;</td>\n",
       "      <td>&lt;NA&gt;</td>\n",
       "      <td>NaN</td>\n",
       "      <td>NaN</td>\n",
       "      <td>NaN</td>\n",
       "      <td>&lt;NA&gt;</td>\n",
       "      <td>&lt;NA&gt;</td>\n",
       "      <td>Netflix</td>\n",
       "      <td>TV Show</td>\n",
       "      <td>2021.0</td>\n",
       "      <td>TV-MA</td>\n",
       "      <td>&lt;NA&gt;</td>\n",
       "      <td>&lt;NA&gt;</td>\n",
       "    </tr>\n",
       "  </tbody>\n",
       "</table>\n",
       "</div>"
      ],
      "text/plain": [
       "    type_x                 title  release_year_x rating_x  minutes_x  \\\n",
       "0    Movie  Dick Johnson Is Dead          2020.0    PG-13         90   \n",
       "1  TV Show         Blood & Water          2021.0    TV-MA       <NA>   \n",
       "2  TV Show             Ganglands          2021.0    TV-MA       <NA>   \n",
       "\n",
       "   seasons_x type_y  release_year_y rating_y  minutes_y  seasons_y  \\\n",
       "0       <NA>    NaN             NaN      NaN       <NA>       <NA>   \n",
       "1          2    NaN             NaN      NaN       <NA>       <NA>   \n",
       "2       <NA>    NaN             NaN      NaN       <NA>       <NA>   \n",
       "\n",
       "  Streaming_Platform     type  release_year rating  minutes  seasons  \n",
       "0            Netflix    Movie        2020.0  PG-13       90     <NA>  \n",
       "1            Netflix  TV Show        2021.0  TV-MA     <NA>        2  \n",
       "2            Netflix  TV Show        2021.0  TV-MA     <NA>     <NA>  "
      ]
     },
     "execution_count": 79,
     "metadata": {},
     "output_type": "execute_result"
    }
   ],
   "source": [
    "merged_df.head(3)"
   ]
  },
  {
   "cell_type": "code",
   "execution_count": 80,
   "id": "261263df",
   "metadata": {},
   "outputs": [],
   "source": [
    "# Dropping multiple columns from the \"merged_df\" DataFrame\n",
    "merged_df.drop(\n",
    "    columns=[\n",
    "\"type_x\",\"release_year_x\",\"minutes_x\",\"seasons_x\",\"rating_x\",\"rating_y\",\"type_y\", \n",
    "        \"release_year_y\",\"minutes_y\",\"seasons_y\",],inplace=True,)"
   ]
  },
  {
   "cell_type": "code",
   "execution_count": 81,
   "id": "6a5f8ce1",
   "metadata": {},
   "outputs": [
    {
     "data": {
      "text/html": [
       "<div>\n",
       "<style scoped>\n",
       "    .dataframe tbody tr th:only-of-type {\n",
       "        vertical-align: middle;\n",
       "    }\n",
       "\n",
       "    .dataframe tbody tr th {\n",
       "        vertical-align: top;\n",
       "    }\n",
       "\n",
       "    .dataframe thead th {\n",
       "        text-align: right;\n",
       "    }\n",
       "</style>\n",
       "<table border=\"1\" class=\"dataframe\">\n",
       "  <thead>\n",
       "    <tr style=\"text-align: right;\">\n",
       "      <th></th>\n",
       "      <th>title</th>\n",
       "      <th>Streaming_Platform</th>\n",
       "      <th>type</th>\n",
       "      <th>release_year</th>\n",
       "      <th>rating</th>\n",
       "      <th>minutes</th>\n",
       "      <th>seasons</th>\n",
       "    </tr>\n",
       "  </thead>\n",
       "  <tbody>\n",
       "    <tr>\n",
       "      <th>0</th>\n",
       "      <td>Dick Johnson Is Dead</td>\n",
       "      <td>Netflix</td>\n",
       "      <td>Movie</td>\n",
       "      <td>2020.0</td>\n",
       "      <td>PG-13</td>\n",
       "      <td>90</td>\n",
       "      <td>&lt;NA&gt;</td>\n",
       "    </tr>\n",
       "    <tr>\n",
       "      <th>1</th>\n",
       "      <td>Blood &amp; Water</td>\n",
       "      <td>Netflix</td>\n",
       "      <td>TV Show</td>\n",
       "      <td>2021.0</td>\n",
       "      <td>TV-MA</td>\n",
       "      <td>&lt;NA&gt;</td>\n",
       "      <td>2</td>\n",
       "    </tr>\n",
       "    <tr>\n",
       "      <th>2</th>\n",
       "      <td>Ganglands</td>\n",
       "      <td>Netflix</td>\n",
       "      <td>TV Show</td>\n",
       "      <td>2021.0</td>\n",
       "      <td>TV-MA</td>\n",
       "      <td>&lt;NA&gt;</td>\n",
       "      <td>&lt;NA&gt;</td>\n",
       "    </tr>\n",
       "  </tbody>\n",
       "</table>\n",
       "</div>"
      ],
      "text/plain": [
       "                  title Streaming_Platform     type  release_year rating  \\\n",
       "0  Dick Johnson Is Dead            Netflix    Movie        2020.0  PG-13   \n",
       "1         Blood & Water            Netflix  TV Show        2021.0  TV-MA   \n",
       "2             Ganglands            Netflix  TV Show        2021.0  TV-MA   \n",
       "\n",
       "   minutes  seasons  \n",
       "0       90     <NA>  \n",
       "1     <NA>        2  \n",
       "2     <NA>     <NA>  "
      ]
     },
     "execution_count": 81,
     "metadata": {},
     "output_type": "execute_result"
    }
   ],
   "source": [
    "merged_df.head(3)"
   ]
  },
  {
   "cell_type": "code",
   "execution_count": 82,
   "id": "356ddb4c",
   "metadata": {},
   "outputs": [
    {
     "name": "stdout",
     "output_type": "stream",
     "text": [
      "<class 'pandas.core.frame.DataFrame'>\n",
      "Int64Index: 11649 entries, 0 to 11648\n",
      "Data columns (total 7 columns):\n",
      " #   Column              Non-Null Count  Dtype   \n",
      "---  ------              --------------  -----   \n",
      " 0   title               11649 non-null  object  \n",
      " 1   Streaming_Platform  11649 non-null  category\n",
      " 2   type                11649 non-null  category\n",
      " 3   release_year        11649 non-null  float64 \n",
      " 4   rating              11372 non-null  object  \n",
      " 5   minutes             7052 non-null   Int64   \n",
      " 6   seasons             1597 non-null   Int64   \n",
      "dtypes: Int64(2), category(2), float64(1), object(2)\n",
      "memory usage: 591.8+ KB\n"
     ]
    }
   ],
   "source": [
    "merged_df.info()"
   ]
  },
  {
   "cell_type": "markdown",
   "id": "b823094c",
   "metadata": {},
   "source": [
    "# 4. Update your data store\n",
    "\n"
   ]
  },
  {
   "cell_type": "markdown",
   "id": "8206268c",
   "metadata": {},
   "source": [
    "Update your local database/data store with the cleaned data, following best practices for storing your cleaned data:\n",
    "\n",
    "- Must maintain different instances / versions of data (raw and cleaned data)\n",
    "- Must name the dataset files informatively\n",
    "- Ensure both the raw and cleaned data is saved to your database/data store\n"
   ]
  },
  {
   "cell_type": "code",
   "execution_count": 83,
   "id": "5aaaf500",
   "metadata": {},
   "outputs": [],
   "source": [
    "# saving data\n",
    "merged_df.to_csv(\"Datasets/Analyzing_Movie_and_tv_show.csv\", index=False)"
   ]
  },
  {
   "cell_type": "code",
   "execution_count": 84,
   "id": "1a100212",
   "metadata": {
    "scrolled": true
   },
   "outputs": [],
   "source": [
    "master_movie_tv_table = merged_df.copy()\n",
    "\n",
    "# Create SQLAlchemy Engine and empty  database\n",
    "engine = sqla.create_engine(\"sqlite:///Analyzing_Movie_and_tv_show.db\")\n",
    "\n",
    "# Store cleaned master DataFrame in a table.\n",
    "master_movie_tv_table.to_sql(\n",
    "    \"Movie_and_TV_Show_Data_Cleaned_table\", engine, index=False, if_exists=\"replace\"\n",
    ")\n",
    "\n",
    "# Store raw  DataFrame in a table .\n",
    "df_netflix_raw.to_sql(\n",
    "    \"raw_movie_and_tv_show_netflix\", engine, index=False, if_exists=\"replace\"\n",
    ")\n",
    "\n",
    "# Store raw  DataFrame in a table.\n",
    "df_hulu_raw.to_sql(\n",
    "    \"raw_movie_and_tv_show_hulu\", engine, index=False, if_exists=\"replace\"\n",
    ")"
   ]
  },
  {
   "cell_type": "code",
   "execution_count": 85,
   "id": "cca15952",
   "metadata": {},
   "outputs": [
    {
     "data": {
      "text/html": [
       "<div>\n",
       "<style scoped>\n",
       "    .dataframe tbody tr th:only-of-type {\n",
       "        vertical-align: middle;\n",
       "    }\n",
       "\n",
       "    .dataframe tbody tr th {\n",
       "        vertical-align: top;\n",
       "    }\n",
       "\n",
       "    .dataframe thead th {\n",
       "        text-align: right;\n",
       "    }\n",
       "</style>\n",
       "<table border=\"1\" class=\"dataframe\">\n",
       "  <thead>\n",
       "    <tr style=\"text-align: right;\">\n",
       "      <th></th>\n",
       "      <th>title</th>\n",
       "      <th>Streaming_Platform</th>\n",
       "      <th>type</th>\n",
       "      <th>release_year</th>\n",
       "      <th>rating</th>\n",
       "      <th>minutes</th>\n",
       "      <th>seasons</th>\n",
       "    </tr>\n",
       "  </thead>\n",
       "  <tbody>\n",
       "    <tr>\n",
       "      <th>0</th>\n",
       "      <td>Dick Johnson Is Dead</td>\n",
       "      <td>Netflix</td>\n",
       "      <td>Movie</td>\n",
       "      <td>2020.0</td>\n",
       "      <td>PG-13</td>\n",
       "      <td>90.0</td>\n",
       "      <td>NaN</td>\n",
       "    </tr>\n",
       "    <tr>\n",
       "      <th>1</th>\n",
       "      <td>Blood &amp; Water</td>\n",
       "      <td>Netflix</td>\n",
       "      <td>TV Show</td>\n",
       "      <td>2021.0</td>\n",
       "      <td>TV-MA</td>\n",
       "      <td>NaN</td>\n",
       "      <td>2.0</td>\n",
       "    </tr>\n",
       "    <tr>\n",
       "      <th>2</th>\n",
       "      <td>Ganglands</td>\n",
       "      <td>Netflix</td>\n",
       "      <td>TV Show</td>\n",
       "      <td>2021.0</td>\n",
       "      <td>TV-MA</td>\n",
       "      <td>NaN</td>\n",
       "      <td>NaN</td>\n",
       "    </tr>\n",
       "    <tr>\n",
       "      <th>3</th>\n",
       "      <td>Jailbirds New Orleans</td>\n",
       "      <td>Netflix</td>\n",
       "      <td>TV Show</td>\n",
       "      <td>2021.0</td>\n",
       "      <td>TV-MA</td>\n",
       "      <td>NaN</td>\n",
       "      <td>NaN</td>\n",
       "    </tr>\n",
       "    <tr>\n",
       "      <th>4</th>\n",
       "      <td>Kota Factory</td>\n",
       "      <td>Netflix</td>\n",
       "      <td>TV Show</td>\n",
       "      <td>2021.0</td>\n",
       "      <td>TV-MA</td>\n",
       "      <td>NaN</td>\n",
       "      <td>2.0</td>\n",
       "    </tr>\n",
       "  </tbody>\n",
       "</table>\n",
       "</div>"
      ],
      "text/plain": [
       "                   title Streaming_Platform     type  release_year rating  \\\n",
       "0   Dick Johnson Is Dead            Netflix    Movie        2020.0  PG-13   \n",
       "1          Blood & Water            Netflix  TV Show        2021.0  TV-MA   \n",
       "2              Ganglands            Netflix  TV Show        2021.0  TV-MA   \n",
       "3  Jailbirds New Orleans            Netflix  TV Show        2021.0  TV-MA   \n",
       "4           Kota Factory            Netflix  TV Show        2021.0  TV-MA   \n",
       "\n",
       "   minutes  seasons  \n",
       "0     90.0      NaN  \n",
       "1      NaN      2.0  \n",
       "2      NaN      NaN  \n",
       "3      NaN      NaN  \n",
       "4      NaN      2.0  "
      ]
     },
     "execution_count": 85,
     "metadata": {},
     "output_type": "execute_result"
    }
   ],
   "source": [
    "# Create SQLAlchemy engine\n",
    "engine = sqla.create_engine(\"sqlite:///Analyzing_Movie_and_tv_show.db\")\n",
    "\n",
    "# Read data from table into DataFrame\n",
    "New_df = pd.read_sql_query(\"SELECT * FROM Movie_and_TV_Show_Data_Cleaned_table\", con=engine)\n",
    "\n",
    "New_df.head()"
   ]
  },
  {
   "cell_type": "code",
   "execution_count": 86,
   "id": "2dc4ad46",
   "metadata": {},
   "outputs": [
    {
     "data": {
      "text/html": [
       "<div>\n",
       "<style scoped>\n",
       "    .dataframe tbody tr th:only-of-type {\n",
       "        vertical-align: middle;\n",
       "    }\n",
       "\n",
       "    .dataframe tbody tr th {\n",
       "        vertical-align: top;\n",
       "    }\n",
       "\n",
       "    .dataframe thead th {\n",
       "        text-align: right;\n",
       "    }\n",
       "</style>\n",
       "<table border=\"1\" class=\"dataframe\">\n",
       "  <thead>\n",
       "    <tr style=\"text-align: right;\">\n",
       "      <th></th>\n",
       "      <th>show_id</th>\n",
       "      <th>type</th>\n",
       "      <th>title</th>\n",
       "      <th>director</th>\n",
       "      <th>cast</th>\n",
       "      <th>country</th>\n",
       "      <th>date_added</th>\n",
       "      <th>release_year</th>\n",
       "      <th>rating</th>\n",
       "      <th>duration</th>\n",
       "      <th>listed_in</th>\n",
       "      <th>description</th>\n",
       "    </tr>\n",
       "  </thead>\n",
       "  <tbody>\n",
       "    <tr>\n",
       "      <th>0</th>\n",
       "      <td>s1</td>\n",
       "      <td>Movie</td>\n",
       "      <td>Dick Johnson Is Dead</td>\n",
       "      <td>Kirsten Johnson</td>\n",
       "      <td>None</td>\n",
       "      <td>United States</td>\n",
       "      <td>September 25, 2021</td>\n",
       "      <td>2020</td>\n",
       "      <td>PG-13</td>\n",
       "      <td>90 min</td>\n",
       "      <td>Documentaries</td>\n",
       "      <td>As her father nears the end of his life, filmm...</td>\n",
       "    </tr>\n",
       "    <tr>\n",
       "      <th>1</th>\n",
       "      <td>s2</td>\n",
       "      <td>TV Show</td>\n",
       "      <td>Blood &amp; Water</td>\n",
       "      <td>None</td>\n",
       "      <td>Ama Qamata, Khosi Ngema, Gail Mabalane, Thaban...</td>\n",
       "      <td>South Africa</td>\n",
       "      <td>September 24, 2021</td>\n",
       "      <td>2021</td>\n",
       "      <td>TV-MA</td>\n",
       "      <td>2 Seasons</td>\n",
       "      <td>International TV Shows, TV Dramas, TV Mysteries</td>\n",
       "      <td>After crossing paths at a party, a Cape Town t...</td>\n",
       "    </tr>\n",
       "    <tr>\n",
       "      <th>2</th>\n",
       "      <td>s3</td>\n",
       "      <td>TV Show</td>\n",
       "      <td>Ganglands</td>\n",
       "      <td>Julien Leclercq</td>\n",
       "      <td>Sami Bouajila, Tracy Gotoas, Samuel Jouy, Nabi...</td>\n",
       "      <td>None</td>\n",
       "      <td>September 24, 2021</td>\n",
       "      <td>2021</td>\n",
       "      <td>TV-MA</td>\n",
       "      <td>1 Season</td>\n",
       "      <td>Crime TV Shows, International TV Shows, TV Act...</td>\n",
       "      <td>To protect his family from a powerful drug lor...</td>\n",
       "    </tr>\n",
       "    <tr>\n",
       "      <th>3</th>\n",
       "      <td>s4</td>\n",
       "      <td>TV Show</td>\n",
       "      <td>Jailbirds New Orleans</td>\n",
       "      <td>None</td>\n",
       "      <td>None</td>\n",
       "      <td>None</td>\n",
       "      <td>September 24, 2021</td>\n",
       "      <td>2021</td>\n",
       "      <td>TV-MA</td>\n",
       "      <td>1 Season</td>\n",
       "      <td>Docuseries, Reality TV</td>\n",
       "      <td>Feuds, flirtations and toilet talk go down amo...</td>\n",
       "    </tr>\n",
       "    <tr>\n",
       "      <th>4</th>\n",
       "      <td>s5</td>\n",
       "      <td>TV Show</td>\n",
       "      <td>Kota Factory</td>\n",
       "      <td>None</td>\n",
       "      <td>Mayur More, Jitendra Kumar, Ranjan Raj, Alam K...</td>\n",
       "      <td>India</td>\n",
       "      <td>September 24, 2021</td>\n",
       "      <td>2021</td>\n",
       "      <td>TV-MA</td>\n",
       "      <td>2 Seasons</td>\n",
       "      <td>International TV Shows, Romantic TV Shows, TV ...</td>\n",
       "      <td>In a city of coaching centers known to train I...</td>\n",
       "    </tr>\n",
       "  </tbody>\n",
       "</table>\n",
       "</div>"
      ],
      "text/plain": [
       "  show_id     type                  title         director  \\\n",
       "0      s1    Movie   Dick Johnson Is Dead  Kirsten Johnson   \n",
       "1      s2  TV Show          Blood & Water             None   \n",
       "2      s3  TV Show              Ganglands  Julien Leclercq   \n",
       "3      s4  TV Show  Jailbirds New Orleans             None   \n",
       "4      s5  TV Show           Kota Factory             None   \n",
       "\n",
       "                                                cast        country  \\\n",
       "0                                               None  United States   \n",
       "1  Ama Qamata, Khosi Ngema, Gail Mabalane, Thaban...   South Africa   \n",
       "2  Sami Bouajila, Tracy Gotoas, Samuel Jouy, Nabi...           None   \n",
       "3                                               None           None   \n",
       "4  Mayur More, Jitendra Kumar, Ranjan Raj, Alam K...          India   \n",
       "\n",
       "           date_added  release_year rating   duration  \\\n",
       "0  September 25, 2021          2020  PG-13     90 min   \n",
       "1  September 24, 2021          2021  TV-MA  2 Seasons   \n",
       "2  September 24, 2021          2021  TV-MA   1 Season   \n",
       "3  September 24, 2021          2021  TV-MA   1 Season   \n",
       "4  September 24, 2021          2021  TV-MA  2 Seasons   \n",
       "\n",
       "                                           listed_in  \\\n",
       "0                                      Documentaries   \n",
       "1    International TV Shows, TV Dramas, TV Mysteries   \n",
       "2  Crime TV Shows, International TV Shows, TV Act...   \n",
       "3                             Docuseries, Reality TV   \n",
       "4  International TV Shows, Romantic TV Shows, TV ...   \n",
       "\n",
       "                                         description  \n",
       "0  As her father nears the end of his life, filmm...  \n",
       "1  After crossing paths at a party, a Cape Town t...  \n",
       "2  To protect his family from a powerful drug lor...  \n",
       "3  Feuds, flirtations and toilet talk go down amo...  \n",
       "4  In a city of coaching centers known to train I...  "
      ]
     },
     "execution_count": 86,
     "metadata": {},
     "output_type": "execute_result"
    }
   ],
   "source": [
    "df_raw_netflix = pd.read_sql_table(\"raw_movie_and_tv_show_netflix\", con=engine)\n",
    "df_raw_netflix.head()"
   ]
  },
  {
   "cell_type": "code",
   "execution_count": 87,
   "id": "8840f58e",
   "metadata": {},
   "outputs": [
    {
     "data": {
      "text/html": [
       "<div>\n",
       "<style scoped>\n",
       "    .dataframe tbody tr th:only-of-type {\n",
       "        vertical-align: middle;\n",
       "    }\n",
       "\n",
       "    .dataframe tbody tr th {\n",
       "        vertical-align: top;\n",
       "    }\n",
       "\n",
       "    .dataframe thead th {\n",
       "        text-align: right;\n",
       "    }\n",
       "</style>\n",
       "<table border=\"1\" class=\"dataframe\">\n",
       "  <thead>\n",
       "    <tr style=\"text-align: right;\">\n",
       "      <th></th>\n",
       "      <th>show_id</th>\n",
       "      <th>type</th>\n",
       "      <th>title</th>\n",
       "      <th>director</th>\n",
       "      <th>cast</th>\n",
       "      <th>country</th>\n",
       "      <th>date_added</th>\n",
       "      <th>release_year</th>\n",
       "      <th>rating</th>\n",
       "      <th>duration</th>\n",
       "      <th>listed_in</th>\n",
       "      <th>description</th>\n",
       "    </tr>\n",
       "  </thead>\n",
       "  <tbody>\n",
       "    <tr>\n",
       "      <th>0</th>\n",
       "      <td>s1</td>\n",
       "      <td>Movie</td>\n",
       "      <td>Ricky Velez: Here's Everything</td>\n",
       "      <td>None</td>\n",
       "      <td>NaN</td>\n",
       "      <td>None</td>\n",
       "      <td>October 24, 2021</td>\n",
       "      <td>2021</td>\n",
       "      <td>TV-MA</td>\n",
       "      <td>None</td>\n",
       "      <td>Comedy, Stand Up</td>\n",
       "      <td>​Comedian Ricky Velez bares it all with his ho...</td>\n",
       "    </tr>\n",
       "    <tr>\n",
       "      <th>1</th>\n",
       "      <td>s2</td>\n",
       "      <td>Movie</td>\n",
       "      <td>Silent Night</td>\n",
       "      <td>None</td>\n",
       "      <td>NaN</td>\n",
       "      <td>None</td>\n",
       "      <td>October 23, 2021</td>\n",
       "      <td>2020</td>\n",
       "      <td>None</td>\n",
       "      <td>94 min</td>\n",
       "      <td>Crime, Drama, Thriller</td>\n",
       "      <td>Mark, a low end South London hitman recently r...</td>\n",
       "    </tr>\n",
       "    <tr>\n",
       "      <th>2</th>\n",
       "      <td>s3</td>\n",
       "      <td>Movie</td>\n",
       "      <td>The Marksman</td>\n",
       "      <td>None</td>\n",
       "      <td>NaN</td>\n",
       "      <td>None</td>\n",
       "      <td>October 23, 2021</td>\n",
       "      <td>2021</td>\n",
       "      <td>PG-13</td>\n",
       "      <td>108 min</td>\n",
       "      <td>Action, Thriller</td>\n",
       "      <td>A hardened Arizona rancher tries to protect an...</td>\n",
       "    </tr>\n",
       "    <tr>\n",
       "      <th>3</th>\n",
       "      <td>s4</td>\n",
       "      <td>Movie</td>\n",
       "      <td>Gaia</td>\n",
       "      <td>None</td>\n",
       "      <td>NaN</td>\n",
       "      <td>None</td>\n",
       "      <td>October 22, 2021</td>\n",
       "      <td>2021</td>\n",
       "      <td>R</td>\n",
       "      <td>97 min</td>\n",
       "      <td>Horror</td>\n",
       "      <td>A forest ranger and two survivalists with a cu...</td>\n",
       "    </tr>\n",
       "    <tr>\n",
       "      <th>4</th>\n",
       "      <td>s5</td>\n",
       "      <td>Movie</td>\n",
       "      <td>Settlers</td>\n",
       "      <td>None</td>\n",
       "      <td>NaN</td>\n",
       "      <td>None</td>\n",
       "      <td>October 22, 2021</td>\n",
       "      <td>2021</td>\n",
       "      <td>None</td>\n",
       "      <td>104 min</td>\n",
       "      <td>Science Fiction, Thriller</td>\n",
       "      <td>Mankind's earliest settlers on the Martian fro...</td>\n",
       "    </tr>\n",
       "  </tbody>\n",
       "</table>\n",
       "</div>"
      ],
      "text/plain": [
       "  show_id   type                           title director  cast country  \\\n",
       "0      s1  Movie  Ricky Velez: Here's Everything     None   NaN    None   \n",
       "1      s2  Movie                    Silent Night     None   NaN    None   \n",
       "2      s3  Movie                    The Marksman     None   NaN    None   \n",
       "3      s4  Movie                            Gaia     None   NaN    None   \n",
       "4      s5  Movie                        Settlers     None   NaN    None   \n",
       "\n",
       "         date_added  release_year rating duration                  listed_in  \\\n",
       "0  October 24, 2021          2021  TV-MA     None           Comedy, Stand Up   \n",
       "1  October 23, 2021          2020   None   94 min     Crime, Drama, Thriller   \n",
       "2  October 23, 2021          2021  PG-13  108 min           Action, Thriller   \n",
       "3  October 22, 2021          2021      R   97 min                     Horror   \n",
       "4  October 22, 2021          2021   None  104 min  Science Fiction, Thriller   \n",
       "\n",
       "                                         description  \n",
       "0  ​Comedian Ricky Velez bares it all with his ho...  \n",
       "1  Mark, a low end South London hitman recently r...  \n",
       "2  A hardened Arizona rancher tries to protect an...  \n",
       "3  A forest ranger and two survivalists with a cu...  \n",
       "4  Mankind's earliest settlers on the Martian fro...  "
      ]
     },
     "execution_count": 87,
     "metadata": {},
     "output_type": "execute_result"
    }
   ],
   "source": [
    "df_raw_hulu = pd.read_sql_table(\"raw_movie_and_tv_show_hulu\", con=engine)\n",
    "df_raw_hulu.head()"
   ]
  },
  {
   "cell_type": "markdown",
   "id": "c0436f42",
   "metadata": {},
   "source": [
    "# 5. Answer the research question"
   ]
  },
  {
   "cell_type": "markdown",
   "id": "3025d0da",
   "metadata": {},
   "source": [
    "5.1: Define and answer the research question\n",
    "Going back to the problem statement in step 1, use the cleaned data to answer the question you raised. Produce at least two visualizations using the cleaned data and explain how they help you answer the question."
   ]
  },
  {
   "cell_type": "markdown",
   "id": "51dec79e",
   "metadata": {},
   "source": [
    "Research questions:\n",
    "\n",
    "1-How can the growth trends of Netflix's and Hulu's release year distributions be compared?\n",
    "\n",
    "\n",
    "2-Are there any notable differences in the distribution of movie and tv show ratings between Netflix and Hulu?"
   ]
  },
  {
   "cell_type": "code",
   "execution_count": 88,
   "id": "7582b271",
   "metadata": {},
   "outputs": [
    {
     "data": {
      "text/html": [
       "<div>\n",
       "<style scoped>\n",
       "    .dataframe tbody tr th:only-of-type {\n",
       "        vertical-align: middle;\n",
       "    }\n",
       "\n",
       "    .dataframe tbody tr th {\n",
       "        vertical-align: top;\n",
       "    }\n",
       "\n",
       "    .dataframe thead th {\n",
       "        text-align: right;\n",
       "    }\n",
       "</style>\n",
       "<table border=\"1\" class=\"dataframe\">\n",
       "  <thead>\n",
       "    <tr style=\"text-align: right;\">\n",
       "      <th></th>\n",
       "      <th>title</th>\n",
       "      <th>Streaming_Platform</th>\n",
       "      <th>type</th>\n",
       "      <th>release_year</th>\n",
       "      <th>rating</th>\n",
       "      <th>minutes</th>\n",
       "      <th>seasons</th>\n",
       "    </tr>\n",
       "  </thead>\n",
       "  <tbody>\n",
       "    <tr>\n",
       "      <th>0</th>\n",
       "      <td>Dick Johnson Is Dead</td>\n",
       "      <td>Netflix</td>\n",
       "      <td>Movie</td>\n",
       "      <td>2020.0</td>\n",
       "      <td>PG-13</td>\n",
       "      <td>90</td>\n",
       "      <td>&lt;NA&gt;</td>\n",
       "    </tr>\n",
       "    <tr>\n",
       "      <th>1</th>\n",
       "      <td>Blood &amp; Water</td>\n",
       "      <td>Netflix</td>\n",
       "      <td>TV Show</td>\n",
       "      <td>2021.0</td>\n",
       "      <td>TV-MA</td>\n",
       "      <td>&lt;NA&gt;</td>\n",
       "      <td>2</td>\n",
       "    </tr>\n",
       "    <tr>\n",
       "      <th>2</th>\n",
       "      <td>Ganglands</td>\n",
       "      <td>Netflix</td>\n",
       "      <td>TV Show</td>\n",
       "      <td>2021.0</td>\n",
       "      <td>TV-MA</td>\n",
       "      <td>&lt;NA&gt;</td>\n",
       "      <td>&lt;NA&gt;</td>\n",
       "    </tr>\n",
       "    <tr>\n",
       "      <th>3</th>\n",
       "      <td>Jailbirds New Orleans</td>\n",
       "      <td>Netflix</td>\n",
       "      <td>TV Show</td>\n",
       "      <td>2021.0</td>\n",
       "      <td>TV-MA</td>\n",
       "      <td>&lt;NA&gt;</td>\n",
       "      <td>&lt;NA&gt;</td>\n",
       "    </tr>\n",
       "    <tr>\n",
       "      <th>4</th>\n",
       "      <td>Kota Factory</td>\n",
       "      <td>Netflix</td>\n",
       "      <td>TV Show</td>\n",
       "      <td>2021.0</td>\n",
       "      <td>TV-MA</td>\n",
       "      <td>&lt;NA&gt;</td>\n",
       "      <td>2</td>\n",
       "    </tr>\n",
       "  </tbody>\n",
       "</table>\n",
       "</div>"
      ],
      "text/plain": [
       "                   title Streaming_Platform     type  release_year rating  \\\n",
       "0   Dick Johnson Is Dead            Netflix    Movie        2020.0  PG-13   \n",
       "1          Blood & Water            Netflix  TV Show        2021.0  TV-MA   \n",
       "2              Ganglands            Netflix  TV Show        2021.0  TV-MA   \n",
       "3  Jailbirds New Orleans            Netflix  TV Show        2021.0  TV-MA   \n",
       "4           Kota Factory            Netflix  TV Show        2021.0  TV-MA   \n",
       "\n",
       "   minutes  seasons  \n",
       "0       90     <NA>  \n",
       "1     <NA>        2  \n",
       "2     <NA>     <NA>  \n",
       "3     <NA>     <NA>  \n",
       "4     <NA>        2  "
      ]
     },
     "execution_count": 88,
     "metadata": {},
     "output_type": "execute_result"
    }
   ],
   "source": [
    "df = pd.DataFrame(merged_df)\n",
    "df.head()"
   ]
  },
  {
   "cell_type": "code",
   "execution_count": 89,
   "id": "e4c030de",
   "metadata": {},
   "outputs": [
    {
     "name": "stdout",
     "output_type": "stream",
     "text": [
      "<class 'pandas.core.frame.DataFrame'>\n",
      "Int64Index: 11649 entries, 0 to 11648\n",
      "Data columns (total 7 columns):\n",
      " #   Column              Non-Null Count  Dtype   \n",
      "---  ------              --------------  -----   \n",
      " 0   title               11649 non-null  object  \n",
      " 1   Streaming_Platform  11649 non-null  category\n",
      " 2   type                11649 non-null  category\n",
      " 3   release_year        11649 non-null  float64 \n",
      " 4   rating              11372 non-null  object  \n",
      " 5   minutes             7052 non-null   Int64   \n",
      " 6   seasons             1597 non-null   Int64   \n",
      "dtypes: Int64(2), category(2), float64(1), object(2)\n",
      "memory usage: 591.8+ KB\n"
     ]
    }
   ],
   "source": [
    "df.info()"
   ]
  },
  {
   "cell_type": "markdown",
   "id": "9e1250ae",
   "metadata": {},
   "source": [
    "# How can the growth trends of Netflix's and Hulu's release year distributions be compared?\n"
   ]
  },
  {
   "cell_type": "code",
   "execution_count": 90,
   "id": "a82071da",
   "metadata": {},
   "outputs": [],
   "source": [
    "def plot_content_distribution(data, platform):\n",
    "    # Count the number of occurrences for each content type\n",
    "    content_counts = data['type'].value_counts()\n",
    "    # Create a pie chart\n",
    "    plt.pie(content_counts.values, labels=content_counts.index, autopct='%1.1f%%',colors=['lightblue','royalblue']\n",
    "           ,explode=[0.1,0.1] ,startangle=90)\n",
    "    # Set the title\n",
    "    plt.title(F\"Distribution of {platform} Content Types\")\n",
    "    # Set the aspect ratio to make the pie chart circular\n",
    "    plt.axis('equal')\n",
    "    # Display the plot\n",
    "    plt.show() "
   ]
  },
  {
   "cell_type": "code",
   "execution_count": 91,
   "id": "377d8ee7",
   "metadata": {},
   "outputs": [],
   "source": [
    "# Filter the data for Netflix and Hulu\n",
    "netflix_data = df[df['Streaming_Platform'] == 'Netflix']\n",
    "hulu_data = df[df['Streaming_Platform'] == 'Hulu']"
   ]
  },
  {
   "cell_type": "code",
   "execution_count": 92,
   "id": "8136a07e",
   "metadata": {},
   "outputs": [
    {
     "data": {
      "image/png": "[encoded data removed]",
      "text/plain": [
       "<Figure size 432x288 with 1 Axes>"
      ]
     },
     "metadata": {},
     "output_type": "display_data"
    }
   ],
   "source": [
    "# Call the function for Netflix\n",
    "plot_content_distribution(netflix_data, 'Netflix')"
   ]
  },
  {
   "cell_type": "markdown",
   "id": "695d23b2",
   "metadata": {},
   "source": [
    "Netflix has 40.1% more movies than TV shows in its content library, showing a strong focus on movies."
   ]
  },
  {
   "cell_type": "code",
   "execution_count": 93,
   "id": "e99ade52",
   "metadata": {
    "scrolled": true
   },
   "outputs": [
    {
     "data": {
      "image/png": "[encoded data removed]",
      "text/plain": [
       "<Figure size 432x288 with 1 Axes>"
      ]
     },
     "metadata": {},
     "output_type": "display_data"
    }
   ],
   "source": [
    "# Call the function for Hulu\n",
    "plot_content_distribution(hulu_data, 'Hulu')"
   ]
  },
  {
   "cell_type": "markdown",
   "id": "39b68aaf",
   "metadata": {},
   "source": [
    "TV shows take slightly higher priority in Hulu's content selection compared to movies."
   ]
  },
  {
   "cell_type": "code",
   "execution_count": 94,
   "id": "e2ccb822",
   "metadata": {
    "scrolled": false
   },
   "outputs": [
    {
     "data": {
      "image/png": "[encoded data removed]",
      "text/plain": [
       "<Figure size 432x288 with 1 Axes>"
      ]
     },
     "metadata": {
      "needs_background": "light"
     },
     "output_type": "display_data"
    }
   ],
   "source": [
    "# Visual 1\n",
    "\n",
    "# Create histograms for Netflix and Hulu release years\n",
    "plt.hist(netflix_data['release_year'], bins=30, alpha=0.5, label='Netflix')\n",
    "plt.hist(hulu_data['release_year'], bins=30, alpha=0.5, label='Hulu')\n",
    "\n",
    "# Set the labels and title\n",
    "plt.xlabel('Release Year')\n",
    "plt.ylabel('Count')\n",
    "plt.title('Distribution of Release Years for Movies and TV Shows on Netflix and Hulu')\n",
    "\n",
    "# Add a legend\n",
    "plt.legend()\n",
    "\n",
    "# Display the plot\n",
    "plt.show()"
   ]
  },
  {
   "cell_type": "markdown",
   "id": "2b006bb3",
   "metadata": {},
   "source": [
    "To compare the growth trends of Netflix's and Hulu's release year distributions, we can visually analyze the histogram and observe the following:\n",
    "\n",
    "Similarity in Early Years: Initially, Netflix's distribution closely resembled that of Hulu, indicating a comparable number of releases in the early years.\n",
    "\n",
    "Significant Growth for Netflix: Starting after the year 2000, Netflix's distribution experienced substantial growth, surpassing that of Hulu. This suggests that Netflix expanded its content library at a faster pace during this period.\n",
    "\n",
    "Continued Expansion: The growth trend for Netflix continued over time, with its distribution consistently surpassing Hulu's. By the year 2020, Netflix's distribution had doubled that of Hulu, indicating its significant increase in content over the years.\n",
    "\n",
    "By comparing the release year distributions of Netflix and Hulu, we can observe the divergent growth trajectories of the two platforms, with Netflix experiencing notable expansion and surpassing Hulu's content offerings in terms of release years."
   ]
  },
  {
   "cell_type": "markdown",
   "id": "1075882d",
   "metadata": {},
   "source": [
    "# Are there any notable differences in the distribution of movie and tv show ratings between Netflix and Hulu?"
   ]
  },
  {
   "cell_type": "code",
   "execution_count": 95,
   "id": "fe2bc6ae",
   "metadata": {},
   "outputs": [
    {
     "data": {
      "image/png": "[encoded data removed]",
      "text/plain": [
       "<Figure size 720x432 with 1 Axes>"
      ]
     },
     "metadata": {
      "needs_background": "light"
     },
     "output_type": "display_data"
    },
    {
     "data": {
      "image/png": "[encoded data removed]",
      "text/plain": [
       "<Figure size 720x432 with 1 Axes>"
      ]
     },
     "metadata": {
      "needs_background": "light"
     },
     "output_type": "display_data"
    }
   ],
   "source": [
    "# Set the figure size for Netflix\n",
    "plt.figure(figsize=(10, 6))  # Adjust the width and height as needed\n",
    "\n",
    "# Create a histogram of ratings for Netflix\n",
    "sns.histplot(data=netflix_data, x='rating', bins=10, kde=True, color='blue')\n",
    "\n",
    "# Set the labels and title for Netflix histogram\n",
    "plt.xlabel('Rating')\n",
    "plt.ylabel('Frequency')\n",
    "plt.title('Netflix Rating Distribution')\n",
    "\n",
    "# Display the Netflix histogram\n",
    "plt.show()\n",
    "\n",
    "# Set the figure size for Hulu\n",
    "plt.figure(figsize=(10, 6))  # Adjust the width and height as needed\n",
    "\n",
    "# Create a histogram of ratings for Hulu\n",
    "sns.histplot(data=hulu_data, x='rating', bins=10, kde=True, color='green')\n",
    "\n",
    "# Set the labels and title for Hulu histogram\n",
    "plt.xlabel('Rating')\n",
    "plt.ylabel('Frequency')\n",
    "plt.title('Hulu Rating Distribution')\n",
    "\n",
    "# Display the Hulu histogram\n",
    "plt.show()"
   ]
  },
  {
   "cell_type": "markdown",
   "id": "0a7a7467",
   "metadata": {},
   "source": [
    "The histogram reveals a notable difference between the two streaming platforms, Netflix and Hulu, in terms of the rating content.\n",
    "\n",
    "For Netflix, the most frequently assigned rating is TV-MA, which indicates content suitable for mature audiences. With over 3,000 movie or TV show carrying this rating, it is evident that Netflix offers a significant amount of mature content. Following TV-MA, the TV-14 rating is the second most common, with approximately 2,000 falling into this category.\n",
    "\n",
    "In contrast, Hulu appears to have a different rating distribution. The highest-rated category on Hulu is TV-14, with over 500 Movie or TV show falling into this rating. This suggests that Hulu tends to offer content that is suitable for viewers aged 14 and above, while potentially providing a lesser amount of mature or adult-oriented content compared to Netflix.\n",
    "The histogram reveals these differences in the rating distribution, highlighting distinct approaches to content categorization and audience targeting between the two streaming platforms."
   ]
  },
  {
   "cell_type": "markdown",
   "id": "de6b182e",
   "metadata": {},
   "source": [
    "# 5.2: Reflection"
   ]
  },
  {
   "cell_type": "markdown",
   "id": "17cf7c47",
   "metadata": {},
   "source": [
    "If I had more time to complete the project, I would consider separating TV shows and movies into distinct categories within the dataset. This separation would allow for more focused analysis and exploration of patterns and trends specific to each category. By organizing the data in this manner, it would be easier to conduct separate analyses for TV shows and movies, enabling a deeper understanding of audience preferences, content availability, and performance metrics within each category."
   ]
  }
 ],
 "metadata": {
  "kernelspec": {
   "display_name": "Python 3 (ipykernel)",
   "language": "python",
   "name": "python3"
  },
  "language_info": {
   "codemirror_mode": {
    "name": "ipython",
    "version": 3
   },
   "file_extension": ".py",
   "mimetype": "text/x-python",
   "name": "python",
   "nbconvert_exporter": "python",
   "pygments_lexer": "ipython3",
   "version": "3.9.7"
  }
 },
 "nbformat": 4,
 "nbformat_minor": 5
}
